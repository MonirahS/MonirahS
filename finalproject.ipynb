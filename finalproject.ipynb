{
 "cells": [
  {
   "cell_type": "code",
   "execution_count": 1,
   "id": "7ee3d3f3",
   "metadata": {},
   "outputs": [],
   "source": [
    "# munging imports\n",
    "import pandas as pd\n",
    "import numpy as np\n",
    "\n",
    "# visualization imports\n",
    "import matplotlib.pyplot as plt\n",
    "import seaborn as sns\n",
    "plt.style.use('fivethirtyeight')\n",
    "\n",
    "%matplotlib inline\n",
    "\n",
    "# modeling imports\n",
    "from sklearn.linear_model import LogisticRegression\n",
    "from sklearn.model_selection import train_test_split\n",
    "from sklearn.metrics import precision_score, recall_score, accuracy_score, roc_auc_score\n",
    "from sklearn.metrics import confusion_matrix\n",
    "from sklearn.preprocessing import StandardScaler"
   ]
  },
  {
   "cell_type": "code",
   "execution_count": 2,
   "id": "82a2a789",
   "metadata": {},
   "outputs": [
    {
     "name": "stderr",
     "output_type": "stream",
     "text": [
      "/opt/anaconda3/lib/python3.8/site-packages/IPython/core/interactiveshell.py:3165: DtypeWarning: Columns (23,24) have mixed types.Specify dtype option on import or set low_memory=False.\n",
      "  has_raised = await self.run_ast_nodes(code_ast.body, cell_name,\n"
     ]
    }
   ],
   "source": [
    "df=pd.read_csv(\"BookSTC.csv\")"
   ]
  },
  {
   "cell_type": "code",
   "execution_count": 3,
   "id": "fa4a14bd",
   "metadata": {},
   "outputs": [
    {
     "data": {
      "text/html": [
       "<div>\n",
       "<style scoped>\n",
       "    .dataframe tbody tr th:only-of-type {\n",
       "        vertical-align: middle;\n",
       "    }\n",
       "\n",
       "    .dataframe tbody tr th {\n",
       "        vertical-align: top;\n",
       "    }\n",
       "\n",
       "    .dataframe thead th {\n",
       "        text-align: right;\n",
       "    }\n",
       "</style>\n",
       "<table border=\"1\" class=\"dataframe\">\n",
       "  <thead>\n",
       "    <tr style=\"text-align: right;\">\n",
       "      <th></th>\n",
       "      <th>CAL_DT</th>\n",
       "      <th>MODEL_NAME</th>\n",
       "      <th>BRAND_FULL_NAME</th>\n",
       "      <th>BRAND_NAME</th>\n",
       "      <th>VENDOR_NAME</th>\n",
       "      <th>OS_NAME</th>\n",
       "      <th>DEVICE_TYPE</th>\n",
       "      <th>_2G_FLG</th>\n",
       "      <th>_3G_FLG</th>\n",
       "      <th>_4G_FLG</th>\n",
       "      <th>...</th>\n",
       "      <th>NATIONALITY_CD</th>\n",
       "      <th>NATIONALITY_NAME</th>\n",
       "      <th>SAUDI_NON_SAUDI</th>\n",
       "      <th>DEVICE_COUNT</th>\n",
       "      <th>Unnamed: 20</th>\n",
       "      <th>Unnamed: 21</th>\n",
       "      <th>Unnamed: 22</th>\n",
       "      <th>Unnamed: 23</th>\n",
       "      <th>Unnamed: 24</th>\n",
       "      <th>Unnamed: 25</th>\n",
       "    </tr>\n",
       "  </thead>\n",
       "  <tbody>\n",
       "    <tr>\n",
       "      <th>0</th>\n",
       "      <td>1/31/2019</td>\n",
       "      <td>One x9</td>\n",
       "      <td>HTC One x9</td>\n",
       "      <td>HTC</td>\n",
       "      <td>Google</td>\n",
       "      <td>Android</td>\n",
       "      <td>Smartphone</td>\n",
       "      <td>Y</td>\n",
       "      <td>Y</td>\n",
       "      <td>Y</td>\n",
       "      <td>...</td>\n",
       "      <td>LKA</td>\n",
       "      <td>Sri Lanka</td>\n",
       "      <td>Non-Saudi</td>\n",
       "      <td>9</td>\n",
       "      <td>NaN</td>\n",
       "      <td>NaN</td>\n",
       "      <td>NaN</td>\n",
       "      <td>NaN</td>\n",
       "      <td>NaN</td>\n",
       "      <td>NaN</td>\n",
       "    </tr>\n",
       "    <tr>\n",
       "      <th>1</th>\n",
       "      <td>5/31/2020</td>\n",
       "      <td>X2-00</td>\n",
       "      <td>Nokia X2-00</td>\n",
       "      <td>Nokia</td>\n",
       "      <td>Nokia</td>\n",
       "      <td>Proprietary</td>\n",
       "      <td>Mobile Phone</td>\n",
       "      <td>Y</td>\n",
       "      <td>N</td>\n",
       "      <td>N</td>\n",
       "      <td>...</td>\n",
       "      <td>NaN</td>\n",
       "      <td>NaN</td>\n",
       "      <td>Non-Saudi</td>\n",
       "      <td>1</td>\n",
       "      <td>NaN</td>\n",
       "      <td>NaN</td>\n",
       "      <td>NaN</td>\n",
       "      <td>NaN</td>\n",
       "      <td>NaN</td>\n",
       "      <td>NaN</td>\n",
       "    </tr>\n",
       "    <tr>\n",
       "      <th>2</th>\n",
       "      <td>1/31/2019</td>\n",
       "      <td>Desire 626 NFC Dual Sim</td>\n",
       "      <td>HTC Desire 626 NFC Dual Sim</td>\n",
       "      <td>HTC</td>\n",
       "      <td>Google</td>\n",
       "      <td>Android</td>\n",
       "      <td>Smartphone</td>\n",
       "      <td>Y</td>\n",
       "      <td>Y</td>\n",
       "      <td>Y</td>\n",
       "      <td>...</td>\n",
       "      <td>SAU</td>\n",
       "      <td>Saudi Arabia</td>\n",
       "      <td>Saudi</td>\n",
       "      <td>1</td>\n",
       "      <td>NaN</td>\n",
       "      <td>NaN</td>\n",
       "      <td>NaN</td>\n",
       "      <td>NaN</td>\n",
       "      <td>NaN</td>\n",
       "      <td>NaN</td>\n",
       "    </tr>\n",
       "    <tr>\n",
       "      <th>3</th>\n",
       "      <td>12/31/2019</td>\n",
       "      <td>C7-00</td>\n",
       "      <td>Nokia C7-00</td>\n",
       "      <td>Nokia</td>\n",
       "      <td>Nokia</td>\n",
       "      <td>Symbian</td>\n",
       "      <td>Smartphone</td>\n",
       "      <td>Y</td>\n",
       "      <td>Y</td>\n",
       "      <td>N</td>\n",
       "      <td>...</td>\n",
       "      <td>BGD</td>\n",
       "      <td>Bangladesh</td>\n",
       "      <td>Non-Saudi</td>\n",
       "      <td>2</td>\n",
       "      <td>NaN</td>\n",
       "      <td>NaN</td>\n",
       "      <td>NaN</td>\n",
       "      <td>NaN</td>\n",
       "      <td>NaN</td>\n",
       "      <td>NaN</td>\n",
       "    </tr>\n",
       "    <tr>\n",
       "      <th>4</th>\n",
       "      <td>9/30/2019</td>\n",
       "      <td>1202</td>\n",
       "      <td>Nokia 1202</td>\n",
       "      <td>Nokia</td>\n",
       "      <td>Nokia</td>\n",
       "      <td>Proprietary</td>\n",
       "      <td>Mobile Phone</td>\n",
       "      <td>Y</td>\n",
       "      <td>N</td>\n",
       "      <td>N</td>\n",
       "      <td>...</td>\n",
       "      <td>BGD</td>\n",
       "      <td>Bangladesh</td>\n",
       "      <td>Non-Saudi</td>\n",
       "      <td>4</td>\n",
       "      <td>NaN</td>\n",
       "      <td>NaN</td>\n",
       "      <td>NaN</td>\n",
       "      <td>NaN</td>\n",
       "      <td>NaN</td>\n",
       "      <td>NaN</td>\n",
       "    </tr>\n",
       "    <tr>\n",
       "      <th>...</th>\n",
       "      <td>...</td>\n",
       "      <td>...</td>\n",
       "      <td>...</td>\n",
       "      <td>...</td>\n",
       "      <td>...</td>\n",
       "      <td>...</td>\n",
       "      <td>...</td>\n",
       "      <td>...</td>\n",
       "      <td>...</td>\n",
       "      <td>...</td>\n",
       "      <td>...</td>\n",
       "      <td>...</td>\n",
       "      <td>...</td>\n",
       "      <td>...</td>\n",
       "      <td>...</td>\n",
       "      <td>...</td>\n",
       "      <td>...</td>\n",
       "      <td>...</td>\n",
       "      <td>...</td>\n",
       "      <td>...</td>\n",
       "      <td>...</td>\n",
       "    </tr>\n",
       "    <tr>\n",
       "      <th>1048570</th>\n",
       "      <td>4/30/2019</td>\n",
       "      <td>Fast 2</td>\n",
       "      <td>Bird Fast 2</td>\n",
       "      <td>Bird</td>\n",
       "      <td>unknown</td>\n",
       "      <td>unknown</td>\n",
       "      <td>Smartphone</td>\n",
       "      <td>Y</td>\n",
       "      <td>Y</td>\n",
       "      <td>Y</td>\n",
       "      <td>...</td>\n",
       "      <td>SDN</td>\n",
       "      <td>Sudan</td>\n",
       "      <td>Non-Saudi</td>\n",
       "      <td>1</td>\n",
       "      <td>NaN</td>\n",
       "      <td>NaN</td>\n",
       "      <td>NaN</td>\n",
       "      <td>NaN</td>\n",
       "      <td>NaN</td>\n",
       "      <td>NaN</td>\n",
       "    </tr>\n",
       "    <tr>\n",
       "      <th>1048571</th>\n",
       "      <td>5/31/2019</td>\n",
       "      <td>One x9</td>\n",
       "      <td>HTC One x9</td>\n",
       "      <td>HTC</td>\n",
       "      <td>Google</td>\n",
       "      <td>Android</td>\n",
       "      <td>Smartphone</td>\n",
       "      <td>Y</td>\n",
       "      <td>Y</td>\n",
       "      <td>Y</td>\n",
       "      <td>...</td>\n",
       "      <td>NaN</td>\n",
       "      <td>NaN</td>\n",
       "      <td>Non-Saudi</td>\n",
       "      <td>11</td>\n",
       "      <td>NaN</td>\n",
       "      <td>NaN</td>\n",
       "      <td>NaN</td>\n",
       "      <td>NaN</td>\n",
       "      <td>NaN</td>\n",
       "      <td>NaN</td>\n",
       "    </tr>\n",
       "    <tr>\n",
       "      <th>1048572</th>\n",
       "      <td>5/31/2019</td>\n",
       "      <td>X2-00</td>\n",
       "      <td>Nokia X2-00</td>\n",
       "      <td>Nokia</td>\n",
       "      <td>Nokia</td>\n",
       "      <td>Proprietary</td>\n",
       "      <td>Mobile Phone</td>\n",
       "      <td>Y</td>\n",
       "      <td>N</td>\n",
       "      <td>N</td>\n",
       "      <td>...</td>\n",
       "      <td>SYR</td>\n",
       "      <td>Syria</td>\n",
       "      <td>Non-Saudi</td>\n",
       "      <td>16</td>\n",
       "      <td>NaN</td>\n",
       "      <td>NaN</td>\n",
       "      <td>NaN</td>\n",
       "      <td>NaN</td>\n",
       "      <td>NaN</td>\n",
       "      <td>NaN</td>\n",
       "    </tr>\n",
       "    <tr>\n",
       "      <th>1048573</th>\n",
       "      <td>7/31/2019</td>\n",
       "      <td>Desire 626 NFC Dual Sim</td>\n",
       "      <td>HTC Desire 626 NFC Dual Sim</td>\n",
       "      <td>HTC</td>\n",
       "      <td>Google</td>\n",
       "      <td>Android</td>\n",
       "      <td>Smartphone</td>\n",
       "      <td>Y</td>\n",
       "      <td>Y</td>\n",
       "      <td>Y</td>\n",
       "      <td>...</td>\n",
       "      <td>BGD</td>\n",
       "      <td>Bangladesh</td>\n",
       "      <td>Non-Saudi</td>\n",
       "      <td>7</td>\n",
       "      <td>NaN</td>\n",
       "      <td>NaN</td>\n",
       "      <td>NaN</td>\n",
       "      <td>NaN</td>\n",
       "      <td>NaN</td>\n",
       "      <td>NaN</td>\n",
       "    </tr>\n",
       "    <tr>\n",
       "      <th>1048574</th>\n",
       "      <td>6/30/2020</td>\n",
       "      <td>C7-00</td>\n",
       "      <td>Nokia C7-00</td>\n",
       "      <td>Nokia</td>\n",
       "      <td>Nokia</td>\n",
       "      <td>Symbian</td>\n",
       "      <td>Smartphone</td>\n",
       "      <td>Y</td>\n",
       "      <td>Y</td>\n",
       "      <td>N</td>\n",
       "      <td>...</td>\n",
       "      <td>SAU</td>\n",
       "      <td>Saudi Arabia</td>\n",
       "      <td>Saudi</td>\n",
       "      <td>53</td>\n",
       "      <td>NaN</td>\n",
       "      <td>NaN</td>\n",
       "      <td>NaN</td>\n",
       "      <td>NaN</td>\n",
       "      <td>NaN</td>\n",
       "      <td>NaN</td>\n",
       "    </tr>\n",
       "  </tbody>\n",
       "</table>\n",
       "<p>1048575 rows × 26 columns</p>\n",
       "</div>"
      ],
      "text/plain": [
       "             CAL_DT               MODEL_NAME              BRAND_FULL_NAME  \\\n",
       "0         1/31/2019                   One x9                   HTC One x9   \n",
       "1         5/31/2020                    X2-00                  Nokia X2-00   \n",
       "2         1/31/2019  Desire 626 NFC Dual Sim  HTC Desire 626 NFC Dual Sim   \n",
       "3        12/31/2019                    C7-00                  Nokia C7-00   \n",
       "4         9/30/2019                     1202                   Nokia 1202   \n",
       "...             ...                      ...                          ...   \n",
       "1048570   4/30/2019                   Fast 2                  Bird Fast 2   \n",
       "1048571   5/31/2019                   One x9                   HTC One x9   \n",
       "1048572   5/31/2019                    X2-00                  Nokia X2-00   \n",
       "1048573   7/31/2019  Desire 626 NFC Dual Sim  HTC Desire 626 NFC Dual Sim   \n",
       "1048574   6/30/2020                    C7-00                  Nokia C7-00   \n",
       "\n",
       "        BRAND_NAME VENDOR_NAME      OS_NAME   DEVICE_TYPE _2G_FLG _3G_FLG  \\\n",
       "0              HTC      Google      Android    Smartphone       Y       Y   \n",
       "1            Nokia       Nokia  Proprietary  Mobile Phone       Y       N   \n",
       "2              HTC      Google      Android    Smartphone       Y       Y   \n",
       "3            Nokia       Nokia      Symbian    Smartphone       Y       Y   \n",
       "4            Nokia       Nokia  Proprietary  Mobile Phone       Y       N   \n",
       "...            ...         ...          ...           ...     ...     ...   \n",
       "1048570       Bird     unknown      unknown    Smartphone       Y       Y   \n",
       "1048571        HTC      Google      Android    Smartphone       Y       Y   \n",
       "1048572      Nokia       Nokia  Proprietary  Mobile Phone       Y       N   \n",
       "1048573        HTC      Google      Android    Smartphone       Y       Y   \n",
       "1048574      Nokia       Nokia      Symbian    Smartphone       Y       Y   \n",
       "\n",
       "        _4G_FLG  ... NATIONALITY_CD NATIONALITY_NAME SAUDI_NON_SAUDI  \\\n",
       "0             Y  ...            LKA        Sri Lanka       Non-Saudi   \n",
       "1             N  ...            NaN              NaN       Non-Saudi   \n",
       "2             Y  ...            SAU     Saudi Arabia           Saudi   \n",
       "3             N  ...            BGD       Bangladesh       Non-Saudi   \n",
       "4             N  ...            BGD       Bangladesh       Non-Saudi   \n",
       "...         ...  ...            ...              ...             ...   \n",
       "1048570       Y  ...            SDN            Sudan       Non-Saudi   \n",
       "1048571       Y  ...            NaN              NaN       Non-Saudi   \n",
       "1048572       N  ...            SYR            Syria       Non-Saudi   \n",
       "1048573       Y  ...            BGD       Bangladesh       Non-Saudi   \n",
       "1048574       N  ...            SAU     Saudi Arabia           Saudi   \n",
       "\n",
       "        DEVICE_COUNT Unnamed: 20 Unnamed: 21 Unnamed: 22 Unnamed: 23  \\\n",
       "0                  9         NaN         NaN         NaN         NaN   \n",
       "1                  1         NaN         NaN         NaN         NaN   \n",
       "2                  1         NaN         NaN         NaN         NaN   \n",
       "3                  2         NaN         NaN         NaN         NaN   \n",
       "4                  4         NaN         NaN         NaN         NaN   \n",
       "...              ...         ...         ...         ...         ...   \n",
       "1048570            1         NaN         NaN         NaN         NaN   \n",
       "1048571           11         NaN         NaN         NaN         NaN   \n",
       "1048572           16         NaN         NaN         NaN         NaN   \n",
       "1048573            7         NaN         NaN         NaN         NaN   \n",
       "1048574           53         NaN         NaN         NaN         NaN   \n",
       "\n",
       "        Unnamed: 24 Unnamed: 25  \n",
       "0               NaN         NaN  \n",
       "1               NaN         NaN  \n",
       "2               NaN         NaN  \n",
       "3               NaN         NaN  \n",
       "4               NaN         NaN  \n",
       "...             ...         ...  \n",
       "1048570         NaN         NaN  \n",
       "1048571         NaN         NaN  \n",
       "1048572         NaN         NaN  \n",
       "1048573         NaN         NaN  \n",
       "1048574         NaN         NaN  \n",
       "\n",
       "[1048575 rows x 26 columns]"
      ]
     },
     "execution_count": 3,
     "metadata": {},
     "output_type": "execute_result"
    }
   ],
   "source": [
    "df"
   ]
  },
  {
   "cell_type": "code",
   "execution_count": 4,
   "id": "83cc44c3",
   "metadata": {},
   "outputs": [
    {
     "data": {
      "text/plain": [
       "CAL_DT               object\n",
       "MODEL_NAME           object\n",
       "BRAND_FULL_NAME      object\n",
       "BRAND_NAME           object\n",
       "VENDOR_NAME          object\n",
       "OS_NAME              object\n",
       "DEVICE_TYPE          object\n",
       "_2G_FLG              object\n",
       "_3G_FLG              object\n",
       "_4G_FLG              object\n",
       "WIFI_FLG             object\n",
       "BLUETOOTH_FLG        object\n",
       "TOUCH_SCREEN_FLG     object\n",
       "DUAL_SIM_FLG         object\n",
       "GENDER_TYPE_CD       object\n",
       "AGE_B                object\n",
       "NATIONALITY_CD       object\n",
       "NATIONALITY_NAME     object\n",
       "SAUDI_NON_SAUDI      object\n",
       "DEVICE_COUNT         object\n",
       "Unnamed: 20          object\n",
       "Unnamed: 21          object\n",
       "Unnamed: 22          object\n",
       "Unnamed: 23          object\n",
       "Unnamed: 24          object\n",
       "Unnamed: 25         float64\n",
       "dtype: object"
      ]
     },
     "execution_count": 4,
     "metadata": {},
     "output_type": "execute_result"
    }
   ],
   "source": [
    "df.dtypes"
   ]
  },
  {
   "cell_type": "code",
   "execution_count": 7,
   "id": "e59b5bb5",
   "metadata": {},
   "outputs": [],
   "source": [
    "# As the dataset is more than 100000000 i will \n",
    "df=df.drop(['MODEL_NAME','VENDOR_NAME','BRAND_FULL_NAME','TOUCH_SCREEN_FLG','DUAL_SIM_FLG','_2G_FLG','_3G_FLG','_4G_FLG','NATIONALITY_CD','WIFI_FLG','BLUETOOTH_FLG','Unnamed: 20','Unnamed: 21','Unnamed: 22','Unnamed: 23','NATIONALITY_NAME','Unnamed: 24','Unnamed: 25'],axis=1)"
   ]
  },
  {
   "cell_type": "code",
   "execution_count": 8,
   "id": "18ea30a8",
   "metadata": {},
   "outputs": [
    {
     "data": {
      "text/html": [
       "<div>\n",
       "<style scoped>\n",
       "    .dataframe tbody tr th:only-of-type {\n",
       "        vertical-align: middle;\n",
       "    }\n",
       "\n",
       "    .dataframe tbody tr th {\n",
       "        vertical-align: top;\n",
       "    }\n",
       "\n",
       "    .dataframe thead th {\n",
       "        text-align: right;\n",
       "    }\n",
       "</style>\n",
       "<table border=\"1\" class=\"dataframe\">\n",
       "  <thead>\n",
       "    <tr style=\"text-align: right;\">\n",
       "      <th></th>\n",
       "      <th>CAL_DT</th>\n",
       "      <th>BRAND_NAME</th>\n",
       "      <th>OS_NAME</th>\n",
       "      <th>DEVICE_TYPE</th>\n",
       "      <th>GENDER_TYPE_CD</th>\n",
       "      <th>AGE_B</th>\n",
       "      <th>SAUDI_NON_SAUDI</th>\n",
       "      <th>DEVICE_COUNT</th>\n",
       "    </tr>\n",
       "  </thead>\n",
       "  <tbody>\n",
       "    <tr>\n",
       "      <th>0</th>\n",
       "      <td>1/31/2019</td>\n",
       "      <td>HTC</td>\n",
       "      <td>Android</td>\n",
       "      <td>Smartphone</td>\n",
       "      <td>Male</td>\n",
       "      <td>36-55</td>\n",
       "      <td>Non-Saudi</td>\n",
       "      <td>9</td>\n",
       "    </tr>\n",
       "    <tr>\n",
       "      <th>1</th>\n",
       "      <td>5/31/2020</td>\n",
       "      <td>Nokia</td>\n",
       "      <td>Proprietary</td>\n",
       "      <td>Mobile Phone</td>\n",
       "      <td>Male</td>\n",
       "      <td>&lt;18</td>\n",
       "      <td>Non-Saudi</td>\n",
       "      <td>1</td>\n",
       "    </tr>\n",
       "    <tr>\n",
       "      <th>2</th>\n",
       "      <td>1/31/2019</td>\n",
       "      <td>HTC</td>\n",
       "      <td>Android</td>\n",
       "      <td>Smartphone</td>\n",
       "      <td>NaN</td>\n",
       "      <td>26-35</td>\n",
       "      <td>Saudi</td>\n",
       "      <td>1</td>\n",
       "    </tr>\n",
       "    <tr>\n",
       "      <th>3</th>\n",
       "      <td>12/31/2019</td>\n",
       "      <td>Nokia</td>\n",
       "      <td>Symbian</td>\n",
       "      <td>Smartphone</td>\n",
       "      <td>Male</td>\n",
       "      <td>18-25</td>\n",
       "      <td>Non-Saudi</td>\n",
       "      <td>2</td>\n",
       "    </tr>\n",
       "    <tr>\n",
       "      <th>4</th>\n",
       "      <td>9/30/2019</td>\n",
       "      <td>Nokia</td>\n",
       "      <td>Proprietary</td>\n",
       "      <td>Mobile Phone</td>\n",
       "      <td>NaN</td>\n",
       "      <td>36-55</td>\n",
       "      <td>Non-Saudi</td>\n",
       "      <td>4</td>\n",
       "    </tr>\n",
       "  </tbody>\n",
       "</table>\n",
       "</div>"
      ],
      "text/plain": [
       "       CAL_DT BRAND_NAME      OS_NAME   DEVICE_TYPE GENDER_TYPE_CD  AGE_B  \\\n",
       "0   1/31/2019        HTC      Android    Smartphone           Male  36-55   \n",
       "1   5/31/2020      Nokia  Proprietary  Mobile Phone           Male  <18     \n",
       "2   1/31/2019        HTC      Android    Smartphone            NaN  26-35   \n",
       "3  12/31/2019      Nokia      Symbian    Smartphone           Male  18-25   \n",
       "4   9/30/2019      Nokia  Proprietary  Mobile Phone            NaN  36-55   \n",
       "\n",
       "  SAUDI_NON_SAUDI DEVICE_COUNT  \n",
       "0       Non-Saudi            9  \n",
       "1       Non-Saudi            1  \n",
       "2           Saudi            1  \n",
       "3       Non-Saudi            2  \n",
       "4       Non-Saudi            4  "
      ]
     },
     "execution_count": 8,
     "metadata": {},
     "output_type": "execute_result"
    }
   ],
   "source": [
    "df.head()"
   ]
  },
  {
   "cell_type": "code",
   "execution_count": 9,
   "id": "75b4dfd1",
   "metadata": {},
   "outputs": [
    {
     "data": {
      "text/plain": [
       "[('Nokia', 249867),\n",
       " ('Sony', 63410),\n",
       " ('Lenovo', 62175),\n",
       " ('LG', 54579),\n",
       " ('HTC', 54309)]"
      ]
     },
     "execution_count": 9,
     "metadata": {},
     "output_type": "execute_result"
    }
   ],
   "source": [
    "#finding most commn brand names\n",
    "from collections import Counter\n",
    "Counter(\" \".join(df[\"BRAND_NAME\"]).split()).most_common(5)"
   ]
  },
  {
   "cell_type": "code",
   "execution_count": 10,
   "id": "7cd31362",
   "metadata": {},
   "outputs": [],
   "source": [
    "# findin and stor rows related to the top 5 barnds name\n",
    "search_values=['Nokia','Sony','Lenovo','LG','HTC']\n",
    "df[df.BRAND_NAME.str.contains('|'.join(search_values ))]\n",
    "df=df[df.BRAND_NAME.str.contains('|'.join(search_values ))]"
   ]
  },
  {
   "cell_type": "code",
   "execution_count": 11,
   "id": "e8f0d471",
   "metadata": {},
   "outputs": [
    {
     "data": {
      "text/plain": [
       "array(['Non-Saudi', 'Saudi'], dtype=object)"
      ]
     },
     "execution_count": 11,
     "metadata": {},
     "output_type": "execute_result"
    }
   ],
   "source": [
    "# finding unique values\n",
    "df.SAUDI_NON_SAUDI.unique()\n"
   ]
  },
  {
   "cell_type": "code",
   "execution_count": 12,
   "id": "70a127f7",
   "metadata": {},
   "outputs": [
    {
     "data": {
      "text/plain": [
       "array(['Male', nan, 'Female'], dtype=object)"
      ]
     },
     "execution_count": 12,
     "metadata": {},
     "output_type": "execute_result"
    }
   ],
   "source": [
    "df.GENDER_TYPE_CD.unique()"
   ]
  },
  {
   "cell_type": "code",
   "execution_count": 13,
   "id": "bded4c85",
   "metadata": {},
   "outputs": [
    {
     "data": {
      "text/plain": [
       "CAL_DT                 0\n",
       "BRAND_NAME             0\n",
       "OS_NAME                0\n",
       "DEVICE_TYPE            0\n",
       "GENDER_TYPE_CD     53200\n",
       "AGE_B                  0\n",
       "SAUDI_NON_SAUDI        0\n",
       "DEVICE_COUNT           0\n",
       "dtype: int64"
      ]
     },
     "execution_count": 13,
     "metadata": {},
     "output_type": "execute_result"
    }
   ],
   "source": [
    "df.isnull().sum()"
   ]
  },
  {
   "cell_type": "code",
   "execution_count": 14,
   "id": "f8a4a2cf",
   "metadata": {},
   "outputs": [
    {
     "data": {
      "text/plain": [
       "CAL_DT             431140\n",
       "BRAND_NAME         431140\n",
       "OS_NAME            431140\n",
       "DEVICE_TYPE        431140\n",
       "GENDER_TYPE_CD     431140\n",
       "AGE_B              431140\n",
       "SAUDI_NON_SAUDI    431140\n",
       "DEVICE_COUNT       431140\n",
       "dtype: int64"
      ]
     },
     "execution_count": 14,
     "metadata": {},
     "output_type": "execute_result"
    }
   ],
   "source": [
    "df = df.dropna() \n",
    "df.count()"
   ]
  },
  {
   "cell_type": "code",
   "execution_count": 16,
   "id": "697e880a",
   "metadata": {},
   "outputs": [
    {
     "name": "stdout",
     "output_type": "stream",
     "text": [
      "<class 'pandas.core.frame.DataFrame'>\n",
      "Int64Index: 431140 entries, 0 to 1048574\n",
      "Data columns (total 8 columns):\n",
      " #   Column           Non-Null Count   Dtype \n",
      "---  ------           --------------   ----- \n",
      " 0   CAL_DT           431140 non-null  object\n",
      " 1   BRAND_NAME       431140 non-null  object\n",
      " 2   OS_NAME          431140 non-null  object\n",
      " 3   DEVICE_TYPE      431140 non-null  object\n",
      " 4   GENDER_TYPE_CD   431140 non-null  object\n",
      " 5   AGE_B            431140 non-null  object\n",
      " 6   SAUDI_NON_SAUDI  431140 non-null  object\n",
      " 7   DEVICE_COUNT     431140 non-null  object\n",
      "dtypes: object(8)\n",
      "memory usage: 29.6+ MB\n"
     ]
    }
   ],
   "source": [
    "df.info()"
   ]
  },
  {
   "cell_type": "code",
   "execution_count": 17,
   "id": "08e46c1a",
   "metadata": {},
   "outputs": [
    {
     "name": "stdout",
     "output_type": "stream",
     "text": [
      "CAL_DT             0\n",
      "BRAND_NAME         0\n",
      "OS_NAME            0\n",
      "DEVICE_TYPE        0\n",
      "GENDER_TYPE_CD     0\n",
      "AGE_B              0\n",
      "SAUDI_NON_SAUDI    0\n",
      "DEVICE_COUNT       0\n",
      "dtype: int64\n"
     ]
    }
   ],
   "source": [
    "print(df.isnull().sum())"
   ]
  },
  {
   "cell_type": "code",
   "execution_count": 18,
   "id": "ceff50d2",
   "metadata": {},
   "outputs": [
    {
     "data": {
      "text/plain": [
       "CAL_DT             431140\n",
       "BRAND_NAME         431140\n",
       "OS_NAME            431140\n",
       "DEVICE_TYPE        431140\n",
       "GENDER_TYPE_CD     431140\n",
       "AGE_B              431140\n",
       "SAUDI_NON_SAUDI    431140\n",
       "DEVICE_COUNT       431140\n",
       "dtype: int64"
      ]
     },
     "execution_count": 18,
     "metadata": {},
     "output_type": "execute_result"
    }
   ],
   "source": [
    "df = df.dropna() \n",
    "df.count()"
   ]
  },
  {
   "cell_type": "code",
   "execution_count": 19,
   "id": "4f8e030f",
   "metadata": {},
   "outputs": [
    {
     "data": {
      "text/html": [
       "<div>\n",
       "<style scoped>\n",
       "    .dataframe tbody tr th:only-of-type {\n",
       "        vertical-align: middle;\n",
       "    }\n",
       "\n",
       "    .dataframe tbody tr th {\n",
       "        vertical-align: top;\n",
       "    }\n",
       "\n",
       "    .dataframe thead th {\n",
       "        text-align: right;\n",
       "    }\n",
       "</style>\n",
       "<table border=\"1\" class=\"dataframe\">\n",
       "  <thead>\n",
       "    <tr style=\"text-align: right;\">\n",
       "      <th></th>\n",
       "      <th>CAL_DT</th>\n",
       "      <th>BRAND_NAME</th>\n",
       "      <th>OS_NAME</th>\n",
       "      <th>DEVICE_TYPE</th>\n",
       "      <th>GENDER_TYPE_CD</th>\n",
       "      <th>AGE_B</th>\n",
       "      <th>SAUDI_NON_SAUDI</th>\n",
       "      <th>DEVICE_COUNT</th>\n",
       "    </tr>\n",
       "  </thead>\n",
       "  <tbody>\n",
       "    <tr>\n",
       "      <th>0</th>\n",
       "      <td>1/31/2019</td>\n",
       "      <td>HTC</td>\n",
       "      <td>Android</td>\n",
       "      <td>Smartphone</td>\n",
       "      <td>Male</td>\n",
       "      <td>36-55</td>\n",
       "      <td>Non-Saudi</td>\n",
       "      <td>9</td>\n",
       "    </tr>\n",
       "    <tr>\n",
       "      <th>1</th>\n",
       "      <td>5/31/2020</td>\n",
       "      <td>Nokia</td>\n",
       "      <td>Proprietary</td>\n",
       "      <td>Mobile Phone</td>\n",
       "      <td>Male</td>\n",
       "      <td>&lt;18</td>\n",
       "      <td>Non-Saudi</td>\n",
       "      <td>1</td>\n",
       "    </tr>\n",
       "    <tr>\n",
       "      <th>3</th>\n",
       "      <td>12/31/2019</td>\n",
       "      <td>Nokia</td>\n",
       "      <td>Symbian</td>\n",
       "      <td>Smartphone</td>\n",
       "      <td>Male</td>\n",
       "      <td>18-25</td>\n",
       "      <td>Non-Saudi</td>\n",
       "      <td>2</td>\n",
       "    </tr>\n",
       "    <tr>\n",
       "      <th>8</th>\n",
       "      <td>6/30/2019</td>\n",
       "      <td>HTC</td>\n",
       "      <td>Android</td>\n",
       "      <td>Smartphone</td>\n",
       "      <td>Male</td>\n",
       "      <td>26-35</td>\n",
       "      <td>Non-Saudi</td>\n",
       "      <td>21</td>\n",
       "    </tr>\n",
       "    <tr>\n",
       "      <th>11</th>\n",
       "      <td>5/31/2020</td>\n",
       "      <td>Sony</td>\n",
       "      <td>Android</td>\n",
       "      <td>Smartphone</td>\n",
       "      <td>Male</td>\n",
       "      <td>&gt;55</td>\n",
       "      <td>Non-Saudi</td>\n",
       "      <td>1</td>\n",
       "    </tr>\n",
       "  </tbody>\n",
       "</table>\n",
       "</div>"
      ],
      "text/plain": [
       "        CAL_DT BRAND_NAME      OS_NAME   DEVICE_TYPE GENDER_TYPE_CD  AGE_B  \\\n",
       "0    1/31/2019        HTC      Android    Smartphone           Male  36-55   \n",
       "1    5/31/2020      Nokia  Proprietary  Mobile Phone           Male  <18     \n",
       "3   12/31/2019      Nokia      Symbian    Smartphone           Male  18-25   \n",
       "8    6/30/2019        HTC      Android    Smartphone           Male  26-35   \n",
       "11   5/31/2020       Sony      Android    Smartphone           Male  >55     \n",
       "\n",
       "   SAUDI_NON_SAUDI DEVICE_COUNT  \n",
       "0        Non-Saudi            9  \n",
       "1        Non-Saudi            1  \n",
       "3        Non-Saudi            2  \n",
       "8        Non-Saudi           21  \n",
       "11       Non-Saudi            1  "
      ]
     },
     "execution_count": 19,
     "metadata": {},
     "output_type": "execute_result"
    }
   ],
   "source": [
    "df = df.drop_duplicates()\n",
    "df.head(5)"
   ]
  },
  {
   "cell_type": "code",
   "execution_count": 20,
   "id": "a82d0a24",
   "metadata": {},
   "outputs": [
    {
     "data": {
      "text/html": [
       "<div>\n",
       "<style scoped>\n",
       "    .dataframe tbody tr th:only-of-type {\n",
       "        vertical-align: middle;\n",
       "    }\n",
       "\n",
       "    .dataframe tbody tr th {\n",
       "        vertical-align: top;\n",
       "    }\n",
       "\n",
       "    .dataframe thead th {\n",
       "        text-align: right;\n",
       "    }\n",
       "</style>\n",
       "<table border=\"1\" class=\"dataframe\">\n",
       "  <thead>\n",
       "    <tr style=\"text-align: right;\">\n",
       "      <th></th>\n",
       "      <th>CAL_DT</th>\n",
       "      <th>BRAND_NAME</th>\n",
       "      <th>OS_NAME</th>\n",
       "      <th>DEVICE_TYPE</th>\n",
       "      <th>GENDER_TYPE_CD</th>\n",
       "      <th>AGE_B</th>\n",
       "      <th>SAUDI_NON_SAUDI</th>\n",
       "      <th>DEVICE_COUNT</th>\n",
       "    </tr>\n",
       "  </thead>\n",
       "  <tbody>\n",
       "    <tr>\n",
       "      <th>0</th>\n",
       "      <td>1/31/2019</td>\n",
       "      <td>HTC</td>\n",
       "      <td>Android</td>\n",
       "      <td>Smartphone</td>\n",
       "      <td>Male</td>\n",
       "      <td>36-55</td>\n",
       "      <td>Non-Saudi</td>\n",
       "      <td>9</td>\n",
       "    </tr>\n",
       "    <tr>\n",
       "      <th>1</th>\n",
       "      <td>5/31/2020</td>\n",
       "      <td>Nokia</td>\n",
       "      <td>Proprietary</td>\n",
       "      <td>Mobile Phone</td>\n",
       "      <td>Male</td>\n",
       "      <td>&lt;18</td>\n",
       "      <td>Non-Saudi</td>\n",
       "      <td>1</td>\n",
       "    </tr>\n",
       "    <tr>\n",
       "      <th>3</th>\n",
       "      <td>12/31/2019</td>\n",
       "      <td>Nokia</td>\n",
       "      <td>Symbian</td>\n",
       "      <td>Smartphone</td>\n",
       "      <td>Male</td>\n",
       "      <td>18-25</td>\n",
       "      <td>Non-Saudi</td>\n",
       "      <td>2</td>\n",
       "    </tr>\n",
       "    <tr>\n",
       "      <th>8</th>\n",
       "      <td>6/30/2019</td>\n",
       "      <td>HTC</td>\n",
       "      <td>Android</td>\n",
       "      <td>Smartphone</td>\n",
       "      <td>Male</td>\n",
       "      <td>26-35</td>\n",
       "      <td>Non-Saudi</td>\n",
       "      <td>21</td>\n",
       "    </tr>\n",
       "    <tr>\n",
       "      <th>11</th>\n",
       "      <td>5/31/2020</td>\n",
       "      <td>Sony</td>\n",
       "      <td>Android</td>\n",
       "      <td>Smartphone</td>\n",
       "      <td>Male</td>\n",
       "      <td>&gt;55</td>\n",
       "      <td>Non-Saudi</td>\n",
       "      <td>1</td>\n",
       "    </tr>\n",
       "    <tr>\n",
       "      <th>...</th>\n",
       "      <td>...</td>\n",
       "      <td>...</td>\n",
       "      <td>...</td>\n",
       "      <td>...</td>\n",
       "      <td>...</td>\n",
       "      <td>...</td>\n",
       "      <td>...</td>\n",
       "      <td>...</td>\n",
       "    </tr>\n",
       "    <tr>\n",
       "      <th>1048488</th>\n",
       "      <td>10/31/2020</td>\n",
       "      <td>HTC</td>\n",
       "      <td>Android</td>\n",
       "      <td>Smartphone</td>\n",
       "      <td>Male</td>\n",
       "      <td>18-25</td>\n",
       "      <td>Saudi</td>\n",
       "      <td>71</td>\n",
       "    </tr>\n",
       "    <tr>\n",
       "      <th>1048493</th>\n",
       "      <td>4/30/2020</td>\n",
       "      <td>Nokia</td>\n",
       "      <td>Proprietary</td>\n",
       "      <td>Mobile Phone</td>\n",
       "      <td>Male</td>\n",
       "      <td>NA</td>\n",
       "      <td>Saudi</td>\n",
       "      <td>64</td>\n",
       "    </tr>\n",
       "    <tr>\n",
       "      <th>1048518</th>\n",
       "      <td>12/31/2019</td>\n",
       "      <td>Nokia</td>\n",
       "      <td>Other</td>\n",
       "      <td>Smartphone</td>\n",
       "      <td>Male</td>\n",
       "      <td>18-25</td>\n",
       "      <td>Non-Saudi</td>\n",
       "      <td>1</td>\n",
       "    </tr>\n",
       "    <tr>\n",
       "      <th>1048521</th>\n",
       "      <td>3/31/2020</td>\n",
       "      <td>Lenovo</td>\n",
       "      <td>Android</td>\n",
       "      <td>Smartphone</td>\n",
       "      <td>Male</td>\n",
       "      <td>NA</td>\n",
       "      <td>Non-Saudi</td>\n",
       "      <td>16</td>\n",
       "    </tr>\n",
       "    <tr>\n",
       "      <th>1048561</th>\n",
       "      <td>5/31/2020</td>\n",
       "      <td>Sony</td>\n",
       "      <td>Android</td>\n",
       "      <td>Smartphone</td>\n",
       "      <td>Male</td>\n",
       "      <td>26-35</td>\n",
       "      <td>Saudi</td>\n",
       "      <td>102</td>\n",
       "    </tr>\n",
       "  </tbody>\n",
       "</table>\n",
       "<p>87473 rows × 8 columns</p>\n",
       "</div>"
      ],
      "text/plain": [
       "             CAL_DT BRAND_NAME      OS_NAME   DEVICE_TYPE GENDER_TYPE_CD  \\\n",
       "0         1/31/2019        HTC      Android    Smartphone           Male   \n",
       "1         5/31/2020      Nokia  Proprietary  Mobile Phone           Male   \n",
       "3        12/31/2019      Nokia      Symbian    Smartphone           Male   \n",
       "8         6/30/2019        HTC      Android    Smartphone           Male   \n",
       "11        5/31/2020       Sony      Android    Smartphone           Male   \n",
       "...             ...        ...          ...           ...            ...   \n",
       "1048488  10/31/2020        HTC      Android    Smartphone           Male   \n",
       "1048493   4/30/2020      Nokia  Proprietary  Mobile Phone           Male   \n",
       "1048518  12/31/2019      Nokia        Other    Smartphone           Male   \n",
       "1048521   3/31/2020     Lenovo      Android    Smartphone           Male   \n",
       "1048561   5/31/2020       Sony      Android    Smartphone           Male   \n",
       "\n",
       "         AGE_B SAUDI_NON_SAUDI DEVICE_COUNT  \n",
       "0        36-55       Non-Saudi            9  \n",
       "1        <18         Non-Saudi            1  \n",
       "3        18-25       Non-Saudi            2  \n",
       "8        26-35       Non-Saudi           21  \n",
       "11       >55         Non-Saudi            1  \n",
       "...        ...             ...          ...  \n",
       "1048488  18-25           Saudi           71  \n",
       "1048493  NA              Saudi           64  \n",
       "1048518  18-25       Non-Saudi            1  \n",
       "1048521  NA          Non-Saudi           16  \n",
       "1048561  26-35           Saudi          102  \n",
       "\n",
       "[87473 rows x 8 columns]"
      ]
     },
     "execution_count": 20,
     "metadata": {},
     "output_type": "execute_result"
    }
   ],
   "source": [
    "#replacing white space\n",
    "df.replace(r'^\\s+$', np.nan, regex=True)"
   ]
  },
  {
   "cell_type": "code",
   "execution_count": 21,
   "id": "21516d80",
   "metadata": {},
   "outputs": [
    {
     "data": {
      "text/plain": [
       "array(['Male', 'Female'], dtype=object)"
      ]
     },
     "execution_count": 21,
     "metadata": {},
     "output_type": "execute_result"
    }
   ],
   "source": [
    "df.GENDER_TYPE_CD.unique()"
   ]
  },
  {
   "cell_type": "code",
   "execution_count": 22,
   "id": "a3a1b3e3",
   "metadata": {},
   "outputs": [
    {
     "data": {
      "text/plain": [
       "array(['Non-Saudi', 'Saudi'], dtype=object)"
      ]
     },
     "execution_count": 22,
     "metadata": {},
     "output_type": "execute_result"
    }
   ],
   "source": [
    "df.SAUDI_NON_SAUDI.unique()"
   ]
  },
  {
   "cell_type": "code",
   "execution_count": 23,
   "id": "d71c79b3",
   "metadata": {},
   "outputs": [
    {
     "data": {
      "text/plain": [
       "(87473, 8)"
      ]
     },
     "execution_count": 23,
     "metadata": {},
     "output_type": "execute_result"
    }
   ],
   "source": [
    "df.shape"
   ]
  },
  {
   "cell_type": "code",
   "execution_count": 24,
   "id": "4dee6914",
   "metadata": {},
   "outputs": [
    {
     "data": {
      "image/png": "[encoded data removed]",
      "text/plain": [
       "<Figure size 432x288 with 1 Axes>"
      ]
     },
     "metadata": {
      "needs_background": "light"
     },
     "output_type": "display_data"
    }
   ],
   "source": [
    "plt.hist(df['BRAND_NAME'],bins = 66, density=True);"
   ]
  },
  {
   "cell_type": "code",
   "execution_count": 25,
   "id": "9fc40cbb",
   "metadata": {},
   "outputs": [
    {
     "data": {
      "image/png": "[encoded data removed]",
      "text/plain": [
       "<Figure size 432x288 with 1 Axes>"
      ]
     },
     "metadata": {
      "needs_background": "light"
     },
     "output_type": "display_data"
    }
   ],
   "source": [
    "plt.hist(df['OS_NAME'],bins = 66, density=True);"
   ]
  },
  {
   "cell_type": "code",
   "execution_count": 26,
   "id": "35b4dab3",
   "metadata": {},
   "outputs": [
    {
     "data": {
      "image/png": "[encoded data removed]",
      "text/plain": [
       "<Figure size 432x288 with 1 Axes>"
      ]
     },
     "metadata": {
      "needs_background": "light"
     },
     "output_type": "display_data"
    }
   ],
   "source": [
    "plt.hist(df['DEVICE_TYPE'],bins = 66, density=True);"
   ]
  },
  {
   "cell_type": "code",
   "execution_count": 27,
   "id": "a787f546",
   "metadata": {},
   "outputs": [
    {
     "data": {
      "image/png": "[encoded data removed]",
      "text/plain": [
       "<Figure size 720x720 with 6 Axes>"
      ]
     },
     "metadata": {
      "needs_background": "light"
     },
     "output_type": "display_data"
    }
   ],
   "source": [
    "g=sns.pairplot(df, vars=[\"BRAND_NAME\",\"GENDER_TYPE_CD\"])\n",
    "g.fig.set_size_inches(10,10);"
   ]
  },
  {
   "cell_type": "code",
   "execution_count": 28,
   "id": "0ae09a7c",
   "metadata": {},
   "outputs": [
    {
     "data": {
      "image/png": "[encoded data removed]",
      "text/plain": [
       "<Figure size 432x288 with 1 Axes>"
      ]
     },
     "metadata": {
      "needs_background": "light"
     },
     "output_type": "display_data"
    }
   ],
   "source": [
    "sns.scatterplot(data=df, x=\"BRAND_NAME\", y=\"DEVICE_COUNT\");"
   ]
  },
  {
   "cell_type": "code",
   "execution_count": 29,
   "id": "433088a6",
   "metadata": {},
   "outputs": [
    {
     "data": {
      "image/png": "[encoded data removed]",
      "text/plain": [
       "<Figure size 432x288 with 1 Axes>"
      ]
     },
     "metadata": {
      "needs_background": "light"
     },
     "output_type": "display_data"
    }
   ],
   "source": [
    "sns.scatterplot(data=df, x=\"BRAND_NAME\", y=\"SAUDI_NON_SAUDI\");"
   ]
  },
  {
   "cell_type": "code",
   "execution_count": 30,
   "id": "6fedde36",
   "metadata": {},
   "outputs": [
    {
     "data": {
      "image/png": "[encoded data removed]",
      "text/plain": [
       "<Figure size 720x720 with 12 Axes>"
      ]
     },
     "metadata": {
      "needs_background": "light"
     },
     "output_type": "display_data"
    }
   ],
   "source": [
    "g=sns.pairplot(df, vars=[\"DEVICE_COUNT\",\"GENDER_TYPE_CD\",\"BRAND_NAME\"])\n",
    "g.fig.set_size_inches(10,10);"
   ]
  },
  {
   "cell_type": "code",
   "execution_count": 31,
   "id": "eab67835",
   "metadata": {},
   "outputs": [
    {
     "data": {
      "text/html": [
       "<div>\n",
       "<style scoped>\n",
       "    .dataframe tbody tr th:only-of-type {\n",
       "        vertical-align: middle;\n",
       "    }\n",
       "\n",
       "    .dataframe tbody tr th {\n",
       "        vertical-align: top;\n",
       "    }\n",
       "\n",
       "    .dataframe thead th {\n",
       "        text-align: right;\n",
       "    }\n",
       "</style>\n",
       "<table border=\"1\" class=\"dataframe\">\n",
       "  <thead>\n",
       "    <tr style=\"text-align: right;\">\n",
       "      <th></th>\n",
       "    </tr>\n",
       "  </thead>\n",
       "  <tbody>\n",
       "  </tbody>\n",
       "</table>\n",
       "</div>"
      ],
      "text/plain": [
       "Empty DataFrame\n",
       "Columns: []\n",
       "Index: []"
      ]
     },
     "execution_count": 31,
     "metadata": {},
     "output_type": "execute_result"
    }
   ],
   "source": [
    "df.corr(method='kendall')"
   ]
  },
  {
   "cell_type": "code",
   "execution_count": 50,
   "id": "7f190445",
   "metadata": {},
   "outputs": [
    {
     "data": {
      "text/html": [
       "<div>\n",
       "<style scoped>\n",
       "    .dataframe tbody tr th:only-of-type {\n",
       "        vertical-align: middle;\n",
       "    }\n",
       "\n",
       "    .dataframe tbody tr th {\n",
       "        vertical-align: top;\n",
       "    }\n",
       "\n",
       "    .dataframe thead th {\n",
       "        text-align: right;\n",
       "    }\n",
       "</style>\n",
       "<table border=\"1\" class=\"dataframe\">\n",
       "  <thead>\n",
       "    <tr style=\"text-align: right;\">\n",
       "      <th></th>\n",
       "      <th>CAL_DT</th>\n",
       "      <th>BRAND_NAME</th>\n",
       "      <th>OS_NAME</th>\n",
       "      <th>DEVICE_TYPE</th>\n",
       "      <th>GENDER_TYPE_CD</th>\n",
       "      <th>AGE_B</th>\n",
       "      <th>SAUDI_NON_SAUDI</th>\n",
       "      <th>DEVICE_COUNT</th>\n",
       "    </tr>\n",
       "  </thead>\n",
       "  <tbody>\n",
       "    <tr>\n",
       "      <th>0</th>\n",
       "      <td>1/31/2019</td>\n",
       "      <td>HTC</td>\n",
       "      <td>Android</td>\n",
       "      <td>Smartphone</td>\n",
       "      <td>Male</td>\n",
       "      <td>36-55</td>\n",
       "      <td>Non-Saudi</td>\n",
       "      <td>9</td>\n",
       "    </tr>\n",
       "    <tr>\n",
       "      <th>1</th>\n",
       "      <td>5/31/2020</td>\n",
       "      <td>Nokia</td>\n",
       "      <td>Proprietary</td>\n",
       "      <td>Mobile Phone</td>\n",
       "      <td>Male</td>\n",
       "      <td>&lt;18</td>\n",
       "      <td>Non-Saudi</td>\n",
       "      <td>1</td>\n",
       "    </tr>\n",
       "    <tr>\n",
       "      <th>3</th>\n",
       "      <td>12/31/2019</td>\n",
       "      <td>Nokia</td>\n",
       "      <td>Symbian</td>\n",
       "      <td>Smartphone</td>\n",
       "      <td>Male</td>\n",
       "      <td>18-25</td>\n",
       "      <td>Non-Saudi</td>\n",
       "      <td>2</td>\n",
       "    </tr>\n",
       "    <tr>\n",
       "      <th>8</th>\n",
       "      <td>6/30/2019</td>\n",
       "      <td>HTC</td>\n",
       "      <td>Android</td>\n",
       "      <td>Smartphone</td>\n",
       "      <td>Male</td>\n",
       "      <td>26-35</td>\n",
       "      <td>Non-Saudi</td>\n",
       "      <td>21</td>\n",
       "    </tr>\n",
       "    <tr>\n",
       "      <th>11</th>\n",
       "      <td>5/31/2020</td>\n",
       "      <td>Sony</td>\n",
       "      <td>Android</td>\n",
       "      <td>Smartphone</td>\n",
       "      <td>Male</td>\n",
       "      <td>&gt;55</td>\n",
       "      <td>Non-Saudi</td>\n",
       "      <td>1</td>\n",
       "    </tr>\n",
       "    <tr>\n",
       "      <th>...</th>\n",
       "      <td>...</td>\n",
       "      <td>...</td>\n",
       "      <td>...</td>\n",
       "      <td>...</td>\n",
       "      <td>...</td>\n",
       "      <td>...</td>\n",
       "      <td>...</td>\n",
       "      <td>...</td>\n",
       "    </tr>\n",
       "    <tr>\n",
       "      <th>1048488</th>\n",
       "      <td>10/31/2020</td>\n",
       "      <td>HTC</td>\n",
       "      <td>Android</td>\n",
       "      <td>Smartphone</td>\n",
       "      <td>Male</td>\n",
       "      <td>18-25</td>\n",
       "      <td>Saudi</td>\n",
       "      <td>71</td>\n",
       "    </tr>\n",
       "    <tr>\n",
       "      <th>1048493</th>\n",
       "      <td>4/30/2020</td>\n",
       "      <td>Nokia</td>\n",
       "      <td>Proprietary</td>\n",
       "      <td>Mobile Phone</td>\n",
       "      <td>Male</td>\n",
       "      <td>NA</td>\n",
       "      <td>Saudi</td>\n",
       "      <td>64</td>\n",
       "    </tr>\n",
       "    <tr>\n",
       "      <th>1048518</th>\n",
       "      <td>12/31/2019</td>\n",
       "      <td>Nokia</td>\n",
       "      <td>Other</td>\n",
       "      <td>Smartphone</td>\n",
       "      <td>Male</td>\n",
       "      <td>18-25</td>\n",
       "      <td>Non-Saudi</td>\n",
       "      <td>1</td>\n",
       "    </tr>\n",
       "    <tr>\n",
       "      <th>1048521</th>\n",
       "      <td>3/31/2020</td>\n",
       "      <td>Lenovo</td>\n",
       "      <td>Android</td>\n",
       "      <td>Smartphone</td>\n",
       "      <td>Male</td>\n",
       "      <td>NA</td>\n",
       "      <td>Non-Saudi</td>\n",
       "      <td>16</td>\n",
       "    </tr>\n",
       "    <tr>\n",
       "      <th>1048561</th>\n",
       "      <td>5/31/2020</td>\n",
       "      <td>Sony</td>\n",
       "      <td>Android</td>\n",
       "      <td>Smartphone</td>\n",
       "      <td>Male</td>\n",
       "      <td>26-35</td>\n",
       "      <td>Saudi</td>\n",
       "      <td>102</td>\n",
       "    </tr>\n",
       "  </tbody>\n",
       "</table>\n",
       "<p>87473 rows × 8 columns</p>\n",
       "</div>"
      ],
      "text/plain": [
       "             CAL_DT BRAND_NAME      OS_NAME   DEVICE_TYPE GENDER_TYPE_CD  \\\n",
       "0         1/31/2019        HTC      Android    Smartphone           Male   \n",
       "1         5/31/2020      Nokia  Proprietary  Mobile Phone           Male   \n",
       "3        12/31/2019      Nokia      Symbian    Smartphone           Male   \n",
       "8         6/30/2019        HTC      Android    Smartphone           Male   \n",
       "11        5/31/2020       Sony      Android    Smartphone           Male   \n",
       "...             ...        ...          ...           ...            ...   \n",
       "1048488  10/31/2020        HTC      Android    Smartphone           Male   \n",
       "1048493   4/30/2020      Nokia  Proprietary  Mobile Phone           Male   \n",
       "1048518  12/31/2019      Nokia        Other    Smartphone           Male   \n",
       "1048521   3/31/2020     Lenovo      Android    Smartphone           Male   \n",
       "1048561   5/31/2020       Sony      Android    Smartphone           Male   \n",
       "\n",
       "         AGE_B SAUDI_NON_SAUDI DEVICE_COUNT  \n",
       "0        36-55       Non-Saudi            9  \n",
       "1        <18         Non-Saudi            1  \n",
       "3        18-25       Non-Saudi            2  \n",
       "8        26-35       Non-Saudi           21  \n",
       "11       >55         Non-Saudi            1  \n",
       "...        ...             ...          ...  \n",
       "1048488  18-25           Saudi           71  \n",
       "1048493  NA              Saudi           64  \n",
       "1048518  18-25       Non-Saudi            1  \n",
       "1048521  NA          Non-Saudi           16  \n",
       "1048561  26-35           Saudi          102  \n",
       "\n",
       "[87473 rows x 8 columns]"
      ]
     },
     "execution_count": 50,
     "metadata": {},
     "output_type": "execute_result"
    }
   ],
   "source": [
    "df"
   ]
  },
  {
   "cell_type": "code",
   "execution_count": null,
   "id": "139a80c7",
   "metadata": {},
   "outputs": [],
   "source": [
    "# here i start modiling"
   ]
  },
  {
   "cell_type": "code",
   "execution_count": 51,
   "id": "d7cd074b",
   "metadata": {},
   "outputs": [],
   "source": [
    "df2=df"
   ]
  },
  {
   "cell_type": "markdown",
   "id": "94d15d5e",
   "metadata": {},
   "source": []
  },
  {
   "cell_type": "code",
   "execution_count": 52,
   "id": "49c80c74",
   "metadata": {},
   "outputs": [
    {
     "data": {
      "text/html": [
       "<div>\n",
       "<style scoped>\n",
       "    .dataframe tbody tr th:only-of-type {\n",
       "        vertical-align: middle;\n",
       "    }\n",
       "\n",
       "    .dataframe tbody tr th {\n",
       "        vertical-align: top;\n",
       "    }\n",
       "\n",
       "    .dataframe thead th {\n",
       "        text-align: right;\n",
       "    }\n",
       "</style>\n",
       "<table border=\"1\" class=\"dataframe\">\n",
       "  <thead>\n",
       "    <tr style=\"text-align: right;\">\n",
       "      <th></th>\n",
       "      <th>CAL_DT</th>\n",
       "      <th>BRAND_NAME</th>\n",
       "      <th>OS_NAME</th>\n",
       "      <th>DEVICE_TYPE</th>\n",
       "      <th>GENDER_TYPE_CD</th>\n",
       "      <th>AGE_B</th>\n",
       "      <th>SAUDI_NON_SAUDI</th>\n",
       "      <th>DEVICE_COUNT</th>\n",
       "    </tr>\n",
       "  </thead>\n",
       "  <tbody>\n",
       "    <tr>\n",
       "      <th>0</th>\n",
       "      <td>1/31/2019</td>\n",
       "      <td>HTC</td>\n",
       "      <td>Android</td>\n",
       "      <td>Smartphone</td>\n",
       "      <td>Male</td>\n",
       "      <td>36-55</td>\n",
       "      <td>Non-Saudi</td>\n",
       "      <td>9</td>\n",
       "    </tr>\n",
       "    <tr>\n",
       "      <th>1</th>\n",
       "      <td>5/31/2020</td>\n",
       "      <td>Nokia</td>\n",
       "      <td>Proprietary</td>\n",
       "      <td>Mobile Phone</td>\n",
       "      <td>Male</td>\n",
       "      <td>&lt;18</td>\n",
       "      <td>Non-Saudi</td>\n",
       "      <td>1</td>\n",
       "    </tr>\n",
       "    <tr>\n",
       "      <th>3</th>\n",
       "      <td>12/31/2019</td>\n",
       "      <td>Nokia</td>\n",
       "      <td>Symbian</td>\n",
       "      <td>Smartphone</td>\n",
       "      <td>Male</td>\n",
       "      <td>18-25</td>\n",
       "      <td>Non-Saudi</td>\n",
       "      <td>2</td>\n",
       "    </tr>\n",
       "    <tr>\n",
       "      <th>8</th>\n",
       "      <td>6/30/2019</td>\n",
       "      <td>HTC</td>\n",
       "      <td>Android</td>\n",
       "      <td>Smartphone</td>\n",
       "      <td>Male</td>\n",
       "      <td>26-35</td>\n",
       "      <td>Non-Saudi</td>\n",
       "      <td>21</td>\n",
       "    </tr>\n",
       "    <tr>\n",
       "      <th>11</th>\n",
       "      <td>5/31/2020</td>\n",
       "      <td>Sony</td>\n",
       "      <td>Android</td>\n",
       "      <td>Smartphone</td>\n",
       "      <td>Male</td>\n",
       "      <td>&gt;55</td>\n",
       "      <td>Non-Saudi</td>\n",
       "      <td>1</td>\n",
       "    </tr>\n",
       "    <tr>\n",
       "      <th>...</th>\n",
       "      <td>...</td>\n",
       "      <td>...</td>\n",
       "      <td>...</td>\n",
       "      <td>...</td>\n",
       "      <td>...</td>\n",
       "      <td>...</td>\n",
       "      <td>...</td>\n",
       "      <td>...</td>\n",
       "    </tr>\n",
       "    <tr>\n",
       "      <th>1048488</th>\n",
       "      <td>10/31/2020</td>\n",
       "      <td>HTC</td>\n",
       "      <td>Android</td>\n",
       "      <td>Smartphone</td>\n",
       "      <td>Male</td>\n",
       "      <td>18-25</td>\n",
       "      <td>Saudi</td>\n",
       "      <td>71</td>\n",
       "    </tr>\n",
       "    <tr>\n",
       "      <th>1048493</th>\n",
       "      <td>4/30/2020</td>\n",
       "      <td>Nokia</td>\n",
       "      <td>Proprietary</td>\n",
       "      <td>Mobile Phone</td>\n",
       "      <td>Male</td>\n",
       "      <td>NA</td>\n",
       "      <td>Saudi</td>\n",
       "      <td>64</td>\n",
       "    </tr>\n",
       "    <tr>\n",
       "      <th>1048518</th>\n",
       "      <td>12/31/2019</td>\n",
       "      <td>Nokia</td>\n",
       "      <td>Other</td>\n",
       "      <td>Smartphone</td>\n",
       "      <td>Male</td>\n",
       "      <td>18-25</td>\n",
       "      <td>Non-Saudi</td>\n",
       "      <td>1</td>\n",
       "    </tr>\n",
       "    <tr>\n",
       "      <th>1048521</th>\n",
       "      <td>3/31/2020</td>\n",
       "      <td>Lenovo</td>\n",
       "      <td>Android</td>\n",
       "      <td>Smartphone</td>\n",
       "      <td>Male</td>\n",
       "      <td>NA</td>\n",
       "      <td>Non-Saudi</td>\n",
       "      <td>16</td>\n",
       "    </tr>\n",
       "    <tr>\n",
       "      <th>1048561</th>\n",
       "      <td>5/31/2020</td>\n",
       "      <td>Sony</td>\n",
       "      <td>Android</td>\n",
       "      <td>Smartphone</td>\n",
       "      <td>Male</td>\n",
       "      <td>26-35</td>\n",
       "      <td>Saudi</td>\n",
       "      <td>102</td>\n",
       "    </tr>\n",
       "  </tbody>\n",
       "</table>\n",
       "<p>87473 rows × 8 columns</p>\n",
       "</div>"
      ],
      "text/plain": [
       "             CAL_DT BRAND_NAME      OS_NAME   DEVICE_TYPE GENDER_TYPE_CD  \\\n",
       "0         1/31/2019        HTC      Android    Smartphone           Male   \n",
       "1         5/31/2020      Nokia  Proprietary  Mobile Phone           Male   \n",
       "3        12/31/2019      Nokia      Symbian    Smartphone           Male   \n",
       "8         6/30/2019        HTC      Android    Smartphone           Male   \n",
       "11        5/31/2020       Sony      Android    Smartphone           Male   \n",
       "...             ...        ...          ...           ...            ...   \n",
       "1048488  10/31/2020        HTC      Android    Smartphone           Male   \n",
       "1048493   4/30/2020      Nokia  Proprietary  Mobile Phone           Male   \n",
       "1048518  12/31/2019      Nokia        Other    Smartphone           Male   \n",
       "1048521   3/31/2020     Lenovo      Android    Smartphone           Male   \n",
       "1048561   5/31/2020       Sony      Android    Smartphone           Male   \n",
       "\n",
       "         AGE_B SAUDI_NON_SAUDI DEVICE_COUNT  \n",
       "0        36-55       Non-Saudi            9  \n",
       "1        <18         Non-Saudi            1  \n",
       "3        18-25       Non-Saudi            2  \n",
       "8        26-35       Non-Saudi           21  \n",
       "11       >55         Non-Saudi            1  \n",
       "...        ...             ...          ...  \n",
       "1048488  18-25           Saudi           71  \n",
       "1048493  NA              Saudi           64  \n",
       "1048518  18-25       Non-Saudi            1  \n",
       "1048521  NA          Non-Saudi           16  \n",
       "1048561  26-35           Saudi          102  \n",
       "\n",
       "[87473 rows x 8 columns]"
      ]
     },
     "execution_count": 52,
     "metadata": {},
     "output_type": "execute_result"
    }
   ],
   "source": [
    "df2"
   ]
  },
  {
   "cell_type": "code",
   "execution_count": 53,
   "id": "a883d8d2",
   "metadata": {},
   "outputs": [],
   "source": [
    "# as I faced many issues related mt dataset type, I will make some changes in col"
   ]
  },
  {
   "cell_type": "code",
   "execution_count": 55,
   "id": "fdb8f28e",
   "metadata": {},
   "outputs": [],
   "source": [
    "df2['BRAND_NAME']=df2['BRAND_NAME'].str.replace(\" \",\"\")"
   ]
  },
  {
   "cell_type": "code",
   "execution_count": 56,
   "id": "69997723",
   "metadata": {},
   "outputs": [
    {
     "data": {
      "text/plain": [
       "array(['HTC', 'Nokia', 'Sony', 'LG', 'Lenovo', 'SonyEricsson'],\n",
       "      dtype=object)"
      ]
     },
     "execution_count": 56,
     "metadata": {},
     "output_type": "execute_result"
    }
   ],
   "source": [
    "df2.BRAND_NAME.unique()"
   ]
  },
  {
   "cell_type": "code",
   "execution_count": 57,
   "id": "87194623",
   "metadata": {},
   "outputs": [],
   "source": [
    "df2.BRAND_NAME[df2.BRAND_NAME=='Nokia']=1\n",
    "df2.BRAND_NAME[df2.BRAND_NAME=='HTC']=2\n",
    "df2.BRAND_NAME[df2.BRAND_NAME=='Sony']=3\n",
    "df2.BRAND_NAME[df2.BRAND_NAME=='LG']=4\n",
    "df2.BRAND_NAME[df2.BRAND_NAME=='Lenovo']=5\n",
    "df2.BRAND_NAME[df2.BRAND_NAME=='SonyEricsson']=6\n"
   ]
  },
  {
   "cell_type": "code",
   "execution_count": 58,
   "id": "be8c6bde",
   "metadata": {},
   "outputs": [],
   "source": [
    "df2['OS_NAME']=df2['OS_NAME'].str.replace(\" \",\"\")"
   ]
  },
  {
   "cell_type": "code",
   "execution_count": null,
   "id": "3482d430",
   "metadata": {},
   "outputs": [],
   "source": []
  },
  {
   "cell_type": "code",
   "execution_count": 62,
   "id": "398e9de2",
   "metadata": {},
   "outputs": [
    {
     "data": {
      "text/plain": [
       "[('Android', 45330), ('Proprietary', 25927), ('Symbian', 8550)]"
      ]
     },
     "execution_count": 62,
     "metadata": {},
     "output_type": "execute_result"
    }
   ],
   "source": [
    "#inding most commn os\n",
    "from collections import Counter\n",
    "Counter(\" \".join(df2[\"OS_NAME\"]).split()).most_common(3)"
   ]
  },
  {
   "cell_type": "code",
   "execution_count": 63,
   "id": "440db07e",
   "metadata": {},
   "outputs": [],
   "source": [
    "search_values=['Android','Proprietary','Symbian']\n",
    "df2[df2.OS_NAME.str.contains('|'.join(search_values ))]\n",
    "df2=df[df2.OS_NAME.str.contains('|'.join(search_values ))]"
   ]
  },
  {
   "cell_type": "code",
   "execution_count": 64,
   "id": "5c17902a",
   "metadata": {},
   "outputs": [
    {
     "data": {
      "text/plain": [
       "array(['Android', 'Proprietary', 'Symbian'], dtype=object)"
      ]
     },
     "execution_count": 64,
     "metadata": {},
     "output_type": "execute_result"
    }
   ],
   "source": [
    "df2.OS_NAME.unique()"
   ]
  },
  {
   "cell_type": "code",
   "execution_count": 65,
   "id": "d41a7cfa",
   "metadata": {},
   "outputs": [
    {
     "name": "stderr",
     "output_type": "stream",
     "text": [
      "/opt/anaconda3/lib/python3.8/site-packages/pandas/core/series.py:992: SettingWithCopyWarning: \n",
      "A value is trying to be set on a copy of a slice from a DataFrame\n",
      "\n",
      "See the caveats in the documentation: https://pandas.pydata.org/pandas-docs/stable/user_guide/indexing.html#returning-a-view-versus-a-copy\n",
      "  self._where(~key, value, inplace=True)\n"
     ]
    }
   ],
   "source": [
    "df2.OS_NAME[df2.OS_NAME=='Android']=1\n",
    "df2.OS_NAME[df2.OS_NAME=='Symbian']=2\n",
    "df2.OS_NAME[df2.OS_NAME=='Proprietary']=3\n"
   ]
  },
  {
   "cell_type": "code",
   "execution_count": 67,
   "id": "954d76ed",
   "metadata": {},
   "outputs": [
    {
     "name": "stderr",
     "output_type": "stream",
     "text": [
      "<ipython-input-67-972fb436ded4>:1: SettingWithCopyWarning: \n",
      "A value is trying to be set on a copy of a slice from a DataFrame.\n",
      "Try using .loc[row_indexer,col_indexer] = value instead\n",
      "\n",
      "See the caveats in the documentation: https://pandas.pydata.org/pandas-docs/stable/user_guide/indexing.html#returning-a-view-versus-a-copy\n",
      "  df2['OS_NAME']=df2['OS_NAME'].astype(str).astype(int)\n"
     ]
    }
   ],
   "source": [
    "df2['OS_NAME']=df2['OS_NAME'].astype(str).astype(int)\n"
   ]
  },
  {
   "cell_type": "code",
   "execution_count": 68,
   "id": "36d3198c",
   "metadata": {},
   "outputs": [
    {
     "data": {
      "text/plain": [
       "array(['Smartphone', 'Mobile Phone'], dtype=object)"
      ]
     },
     "execution_count": 68,
     "metadata": {},
     "output_type": "execute_result"
    }
   ],
   "source": [
    "df2.DEVICE_TYPE.unique()"
   ]
  },
  {
   "cell_type": "code",
   "execution_count": 70,
   "id": "0300cfcb",
   "metadata": {},
   "outputs": [
    {
     "name": "stderr",
     "output_type": "stream",
     "text": [
      "<ipython-input-70-7e3c5db96e9c>:1: SettingWithCopyWarning: \n",
      "A value is trying to be set on a copy of a slice from a DataFrame.\n",
      "Try using .loc[row_indexer,col_indexer] = value instead\n",
      "\n",
      "See the caveats in the documentation: https://pandas.pydata.org/pandas-docs/stable/user_guide/indexing.html#returning-a-view-versus-a-copy\n",
      "  df2['DEVICE_TYPE']=df2['DEVICE_TYPE'].str.replace(\" \",\"\")\n"
     ]
    }
   ],
   "source": [
    "df2['DEVICE_TYPE']=df2['DEVICE_TYPE'].str.replace(\" \",\"\")\n"
   ]
  },
  {
   "cell_type": "code",
   "execution_count": 71,
   "id": "fee2e18b",
   "metadata": {},
   "outputs": [
    {
     "name": "stderr",
     "output_type": "stream",
     "text": [
      "<ipython-input-71-d8cd7e650231>:1: SettingWithCopyWarning: \n",
      "A value is trying to be set on a copy of a slice from a DataFrame\n",
      "\n",
      "See the caveats in the documentation: https://pandas.pydata.org/pandas-docs/stable/user_guide/indexing.html#returning-a-view-versus-a-copy\n",
      "  df2.DEVICE_TYPE[df2.DEVICE_TYPE=='Smartphone']=1\n",
      "<ipython-input-71-d8cd7e650231>:2: SettingWithCopyWarning: \n",
      "A value is trying to be set on a copy of a slice from a DataFrame\n",
      "\n",
      "See the caveats in the documentation: https://pandas.pydata.org/pandas-docs/stable/user_guide/indexing.html#returning-a-view-versus-a-copy\n",
      "  df2.DEVICE_TYPE[df2.DEVICE_TYPE=='MobilePhone']=2\n"
     ]
    }
   ],
   "source": [
    "df2.DEVICE_TYPE[df2.DEVICE_TYPE=='Smartphone']=1\n",
    "df2.DEVICE_TYPE[df2.DEVICE_TYPE=='MobilePhone']=2"
   ]
  },
  {
   "cell_type": "code",
   "execution_count": 72,
   "id": "9c566f2c",
   "metadata": {},
   "outputs": [
    {
     "data": {
      "text/plain": [
       "array(['Male', 'Female'], dtype=object)"
      ]
     },
     "execution_count": 72,
     "metadata": {},
     "output_type": "execute_result"
    }
   ],
   "source": [
    "df2.GENDER_TYPE_CD.unique()"
   ]
  },
  {
   "cell_type": "code",
   "execution_count": 73,
   "id": "43c82614",
   "metadata": {},
   "outputs": [
    {
     "name": "stderr",
     "output_type": "stream",
     "text": [
      "<ipython-input-73-9aefe28549a2>:1: SettingWithCopyWarning: \n",
      "A value is trying to be set on a copy of a slice from a DataFrame.\n",
      "Try using .loc[row_indexer,col_indexer] = value instead\n",
      "\n",
      "See the caveats in the documentation: https://pandas.pydata.org/pandas-docs/stable/user_guide/indexing.html#returning-a-view-versus-a-copy\n",
      "  df2['GENDER_TYPE_CD']=df2['GENDER_TYPE_CD'].str.replace(\" \",\"\")\n"
     ]
    }
   ],
   "source": [
    "df2['GENDER_TYPE_CD']=df2['GENDER_TYPE_CD'].str.replace(\" \",\"\")\n"
   ]
  },
  {
   "cell_type": "code",
   "execution_count": 74,
   "id": "049f5d10",
   "metadata": {},
   "outputs": [
    {
     "name": "stderr",
     "output_type": "stream",
     "text": [
      "<ipython-input-74-4e306b6e44c5>:1: SettingWithCopyWarning: \n",
      "A value is trying to be set on a copy of a slice from a DataFrame\n",
      "\n",
      "See the caveats in the documentation: https://pandas.pydata.org/pandas-docs/stable/user_guide/indexing.html#returning-a-view-versus-a-copy\n",
      "  df2.GENDER_TYPE_CD[df2.GENDER_TYPE_CD=='Male']=1\n",
      "<ipython-input-74-4e306b6e44c5>:2: SettingWithCopyWarning: \n",
      "A value is trying to be set on a copy of a slice from a DataFrame\n",
      "\n",
      "See the caveats in the documentation: https://pandas.pydata.org/pandas-docs/stable/user_guide/indexing.html#returning-a-view-versus-a-copy\n",
      "  df2.GENDER_TYPE_CD[df2.GENDER_TYPE_CD=='Female']=2\n"
     ]
    }
   ],
   "source": [
    "df2.GENDER_TYPE_CD[df2.GENDER_TYPE_CD=='Male']=1\n",
    "df2.GENDER_TYPE_CD[df2.GENDER_TYPE_CD=='Female']=2"
   ]
  },
  {
   "cell_type": "code",
   "execution_count": 77,
   "id": "444fd362",
   "metadata": {},
   "outputs": [
    {
     "data": {
      "text/plain": [
       "array(['36-55', '<18', '18-25', '26-35', '>55', 'NA'], dtype=object)"
      ]
     },
     "execution_count": 77,
     "metadata": {},
     "output_type": "execute_result"
    }
   ],
   "source": [
    "df2.AGE_B.unique()"
   ]
  },
  {
   "cell_type": "code",
   "execution_count": 76,
   "id": "d0d39bf0",
   "metadata": {},
   "outputs": [
    {
     "name": "stderr",
     "output_type": "stream",
     "text": [
      "<ipython-input-76-dc95796e33ef>:1: SettingWithCopyWarning: \n",
      "A value is trying to be set on a copy of a slice from a DataFrame.\n",
      "Try using .loc[row_indexer,col_indexer] = value instead\n",
      "\n",
      "See the caveats in the documentation: https://pandas.pydata.org/pandas-docs/stable/user_guide/indexing.html#returning-a-view-versus-a-copy\n",
      "  df2['AGE_B']=df2['AGE_B'].str.replace(\" \",\"\")\n"
     ]
    }
   ],
   "source": [
    "df2['AGE_B']=df2['AGE_B'].str.replace(\" \",\"\")\n"
   ]
  },
  {
   "cell_type": "code",
   "execution_count": 78,
   "id": "cf88586f",
   "metadata": {},
   "outputs": [
    {
     "name": "stderr",
     "output_type": "stream",
     "text": [
      "<ipython-input-78-10c0d43fc299>:1: SettingWithCopyWarning: \n",
      "A value is trying to be set on a copy of a slice from a DataFrame\n",
      "\n",
      "See the caveats in the documentation: https://pandas.pydata.org/pandas-docs/stable/user_guide/indexing.html#returning-a-view-versus-a-copy\n",
      "  df2.AGE_B[df2.AGE_B=='>55']=1\n",
      "<ipython-input-78-10c0d43fc299>:2: SettingWithCopyWarning: \n",
      "A value is trying to be set on a copy of a slice from a DataFrame\n",
      "\n",
      "See the caveats in the documentation: https://pandas.pydata.org/pandas-docs/stable/user_guide/indexing.html#returning-a-view-versus-a-copy\n",
      "  df2.AGE_B[df2.AGE_B=='36-55']=2\n",
      "<ipython-input-78-10c0d43fc299>:3: SettingWithCopyWarning: \n",
      "A value is trying to be set on a copy of a slice from a DataFrame\n",
      "\n",
      "See the caveats in the documentation: https://pandas.pydata.org/pandas-docs/stable/user_guide/indexing.html#returning-a-view-versus-a-copy\n",
      "  df2.AGE_B[df2.AGE_B=='26-35']=3\n",
      "<ipython-input-78-10c0d43fc299>:4: SettingWithCopyWarning: \n",
      "A value is trying to be set on a copy of a slice from a DataFrame\n",
      "\n",
      "See the caveats in the documentation: https://pandas.pydata.org/pandas-docs/stable/user_guide/indexing.html#returning-a-view-versus-a-copy\n",
      "  df2.AGE_B[df2.AGE_B=='18-25']=4\n",
      "<ipython-input-78-10c0d43fc299>:5: SettingWithCopyWarning: \n",
      "A value is trying to be set on a copy of a slice from a DataFrame\n",
      "\n",
      "See the caveats in the documentation: https://pandas.pydata.org/pandas-docs/stable/user_guide/indexing.html#returning-a-view-versus-a-copy\n",
      "  df2.AGE_B[df2.AGE_B=='<18']=5\n",
      "<ipython-input-78-10c0d43fc299>:6: SettingWithCopyWarning: \n",
      "A value is trying to be set on a copy of a slice from a DataFrame\n",
      "\n",
      "See the caveats in the documentation: https://pandas.pydata.org/pandas-docs/stable/user_guide/indexing.html#returning-a-view-versus-a-copy\n",
      "  df2.AGE_B[df2.AGE_B=='NA']=6\n"
     ]
    }
   ],
   "source": [
    "df2.AGE_B[df2.AGE_B=='>55']=1\n",
    "df2.AGE_B[df2.AGE_B=='36-55']=2\n",
    "df2.AGE_B[df2.AGE_B=='26-35']=3\n",
    "df2.AGE_B[df2.AGE_B=='18-25']=4\n",
    "df2.AGE_B[df2.AGE_B=='<18']=5\n",
    "df2.AGE_B[df2.AGE_B=='NA']=6\n"
   ]
  },
  {
   "cell_type": "code",
   "execution_count": 79,
   "id": "e9f033b0",
   "metadata": {},
   "outputs": [
    {
     "data": {
      "text/html": [
       "<div>\n",
       "<style scoped>\n",
       "    .dataframe tbody tr th:only-of-type {\n",
       "        vertical-align: middle;\n",
       "    }\n",
       "\n",
       "    .dataframe tbody tr th {\n",
       "        vertical-align: top;\n",
       "    }\n",
       "\n",
       "    .dataframe thead th {\n",
       "        text-align: right;\n",
       "    }\n",
       "</style>\n",
       "<table border=\"1\" class=\"dataframe\">\n",
       "  <thead>\n",
       "    <tr style=\"text-align: right;\">\n",
       "      <th></th>\n",
       "      <th>CAL_DT</th>\n",
       "      <th>BRAND_NAME</th>\n",
       "      <th>OS_NAME</th>\n",
       "      <th>DEVICE_TYPE</th>\n",
       "      <th>GENDER_TYPE_CD</th>\n",
       "      <th>AGE_B</th>\n",
       "      <th>SAUDI_NON_SAUDI</th>\n",
       "      <th>DEVICE_COUNT</th>\n",
       "    </tr>\n",
       "  </thead>\n",
       "  <tbody>\n",
       "    <tr>\n",
       "      <th>0</th>\n",
       "      <td>1/31/2019</td>\n",
       "      <td>2</td>\n",
       "      <td>1</td>\n",
       "      <td>1</td>\n",
       "      <td>1</td>\n",
       "      <td>2</td>\n",
       "      <td>Non-Saudi</td>\n",
       "      <td>9</td>\n",
       "    </tr>\n",
       "    <tr>\n",
       "      <th>1</th>\n",
       "      <td>5/31/2020</td>\n",
       "      <td>1</td>\n",
       "      <td>3</td>\n",
       "      <td>2</td>\n",
       "      <td>1</td>\n",
       "      <td>5</td>\n",
       "      <td>Non-Saudi</td>\n",
       "      <td>1</td>\n",
       "    </tr>\n",
       "    <tr>\n",
       "      <th>3</th>\n",
       "      <td>12/31/2019</td>\n",
       "      <td>1</td>\n",
       "      <td>2</td>\n",
       "      <td>1</td>\n",
       "      <td>1</td>\n",
       "      <td>4</td>\n",
       "      <td>Non-Saudi</td>\n",
       "      <td>2</td>\n",
       "    </tr>\n",
       "    <tr>\n",
       "      <th>8</th>\n",
       "      <td>6/30/2019</td>\n",
       "      <td>2</td>\n",
       "      <td>1</td>\n",
       "      <td>1</td>\n",
       "      <td>1</td>\n",
       "      <td>3</td>\n",
       "      <td>Non-Saudi</td>\n",
       "      <td>21</td>\n",
       "    </tr>\n",
       "    <tr>\n",
       "      <th>11</th>\n",
       "      <td>5/31/2020</td>\n",
       "      <td>3</td>\n",
       "      <td>1</td>\n",
       "      <td>1</td>\n",
       "      <td>1</td>\n",
       "      <td>1</td>\n",
       "      <td>Non-Saudi</td>\n",
       "      <td>1</td>\n",
       "    </tr>\n",
       "    <tr>\n",
       "      <th>...</th>\n",
       "      <td>...</td>\n",
       "      <td>...</td>\n",
       "      <td>...</td>\n",
       "      <td>...</td>\n",
       "      <td>...</td>\n",
       "      <td>...</td>\n",
       "      <td>...</td>\n",
       "      <td>...</td>\n",
       "    </tr>\n",
       "    <tr>\n",
       "      <th>1048481</th>\n",
       "      <td>11/30/2019</td>\n",
       "      <td>1</td>\n",
       "      <td>3</td>\n",
       "      <td>2</td>\n",
       "      <td>2</td>\n",
       "      <td>2</td>\n",
       "      <td>Saudi</td>\n",
       "      <td>24</td>\n",
       "    </tr>\n",
       "    <tr>\n",
       "      <th>1048488</th>\n",
       "      <td>10/31/2020</td>\n",
       "      <td>2</td>\n",
       "      <td>1</td>\n",
       "      <td>1</td>\n",
       "      <td>1</td>\n",
       "      <td>4</td>\n",
       "      <td>Saudi</td>\n",
       "      <td>71</td>\n",
       "    </tr>\n",
       "    <tr>\n",
       "      <th>1048493</th>\n",
       "      <td>4/30/2020</td>\n",
       "      <td>1</td>\n",
       "      <td>3</td>\n",
       "      <td>2</td>\n",
       "      <td>1</td>\n",
       "      <td>6</td>\n",
       "      <td>Saudi</td>\n",
       "      <td>64</td>\n",
       "    </tr>\n",
       "    <tr>\n",
       "      <th>1048521</th>\n",
       "      <td>3/31/2020</td>\n",
       "      <td>5</td>\n",
       "      <td>1</td>\n",
       "      <td>1</td>\n",
       "      <td>1</td>\n",
       "      <td>6</td>\n",
       "      <td>Non-Saudi</td>\n",
       "      <td>16</td>\n",
       "    </tr>\n",
       "    <tr>\n",
       "      <th>1048561</th>\n",
       "      <td>5/31/2020</td>\n",
       "      <td>3</td>\n",
       "      <td>1</td>\n",
       "      <td>1</td>\n",
       "      <td>1</td>\n",
       "      <td>3</td>\n",
       "      <td>Saudi</td>\n",
       "      <td>102</td>\n",
       "    </tr>\n",
       "  </tbody>\n",
       "</table>\n",
       "<p>79807 rows × 8 columns</p>\n",
       "</div>"
      ],
      "text/plain": [
       "             CAL_DT BRAND_NAME  OS_NAME DEVICE_TYPE GENDER_TYPE_CD AGE_B  \\\n",
       "0         1/31/2019          2        1           1              1     2   \n",
       "1         5/31/2020          1        3           2              1     5   \n",
       "3        12/31/2019          1        2           1              1     4   \n",
       "8         6/30/2019          2        1           1              1     3   \n",
       "11        5/31/2020          3        1           1              1     1   \n",
       "...             ...        ...      ...         ...            ...   ...   \n",
       "1048481  11/30/2019          1        3           2              2     2   \n",
       "1048488  10/31/2020          2        1           1              1     4   \n",
       "1048493   4/30/2020          1        3           2              1     6   \n",
       "1048521   3/31/2020          5        1           1              1     6   \n",
       "1048561   5/31/2020          3        1           1              1     3   \n",
       "\n",
       "        SAUDI_NON_SAUDI DEVICE_COUNT  \n",
       "0             Non-Saudi            9  \n",
       "1             Non-Saudi            1  \n",
       "3             Non-Saudi            2  \n",
       "8             Non-Saudi           21  \n",
       "11            Non-Saudi            1  \n",
       "...                 ...          ...  \n",
       "1048481           Saudi           24  \n",
       "1048488           Saudi           71  \n",
       "1048493           Saudi           64  \n",
       "1048521       Non-Saudi           16  \n",
       "1048561           Saudi          102  \n",
       "\n",
       "[79807 rows x 8 columns]"
      ]
     },
     "execution_count": 79,
     "metadata": {},
     "output_type": "execute_result"
    }
   ],
   "source": [
    "df2"
   ]
  },
  {
   "cell_type": "code",
   "execution_count": 80,
   "id": "e28f1579",
   "metadata": {},
   "outputs": [
    {
     "name": "stderr",
     "output_type": "stream",
     "text": [
      "<ipython-input-80-47e42009cacf>:1: SettingWithCopyWarning: \n",
      "A value is trying to be set on a copy of a slice from a DataFrame.\n",
      "Try using .loc[row_indexer,col_indexer] = value instead\n",
      "\n",
      "See the caveats in the documentation: https://pandas.pydata.org/pandas-docs/stable/user_guide/indexing.html#returning-a-view-versus-a-copy\n",
      "  df2['SAUDI_NON_SAUDI']=df2['SAUDI_NON_SAUDI'].str.replace(\" \",\"\")\n"
     ]
    }
   ],
   "source": [
    "df2['SAUDI_NON_SAUDI']=df2['SAUDI_NON_SAUDI'].str.replace(\" \",\"\")\n"
   ]
  },
  {
   "cell_type": "code",
   "execution_count": 81,
   "id": "8a9ff672",
   "metadata": {},
   "outputs": [
    {
     "data": {
      "text/plain": [
       "array(['Non-Saudi', 'Saudi'], dtype=object)"
      ]
     },
     "execution_count": 81,
     "metadata": {},
     "output_type": "execute_result"
    }
   ],
   "source": [
    "df2.SAUDI_NON_SAUDI.unique()"
   ]
  },
  {
   "cell_type": "code",
   "execution_count": 82,
   "id": "f085a466",
   "metadata": {},
   "outputs": [
    {
     "name": "stderr",
     "output_type": "stream",
     "text": [
      "<ipython-input-82-993adbcf366c>:1: SettingWithCopyWarning: \n",
      "A value is trying to be set on a copy of a slice from a DataFrame\n",
      "\n",
      "See the caveats in the documentation: https://pandas.pydata.org/pandas-docs/stable/user_guide/indexing.html#returning-a-view-versus-a-copy\n",
      "  df2.SAUDI_NON_SAUDI[df2.SAUDI_NON_SAUDI=='Non-Saudi']=1\n",
      "/opt/anaconda3/lib/python3.8/site-packages/pandas/core/series.py:992: SettingWithCopyWarning: \n",
      "A value is trying to be set on a copy of a slice from a DataFrame\n",
      "\n",
      "See the caveats in the documentation: https://pandas.pydata.org/pandas-docs/stable/user_guide/indexing.html#returning-a-view-versus-a-copy\n",
      "  self._where(~key, value, inplace=True)\n",
      "<ipython-input-82-993adbcf366c>:2: SettingWithCopyWarning: \n",
      "A value is trying to be set on a copy of a slice from a DataFrame\n",
      "\n",
      "See the caveats in the documentation: https://pandas.pydata.org/pandas-docs/stable/user_guide/indexing.html#returning-a-view-versus-a-copy\n",
      "  df2.SAUDI_NON_SAUDI[df2.SAUDI_NON_SAUDI=='Saudi']=2\n"
     ]
    }
   ],
   "source": [
    "df2.SAUDI_NON_SAUDI[df2.SAUDI_NON_SAUDI=='Non-Saudi']=1\n",
    "df2.SAUDI_NON_SAUDI[df2.SAUDI_NON_SAUDI=='Saudi']=2"
   ]
  },
  {
   "cell_type": "code",
   "execution_count": 85,
   "id": "296e9052",
   "metadata": {},
   "outputs": [
    {
     "name": "stderr",
     "output_type": "stream",
     "text": [
      "/opt/anaconda3/lib/python3.8/site-packages/pandas/core/frame.py:3191: SettingWithCopyWarning: \n",
      "A value is trying to be set on a copy of a slice from a DataFrame.\n",
      "Try using .loc[row_indexer,col_indexer] = value instead\n",
      "\n",
      "See the caveats in the documentation: https://pandas.pydata.org/pandas-docs/stable/user_guide/indexing.html#returning-a-view-versus-a-copy\n",
      "  self[k1] = value[k2]\n"
     ]
    }
   ],
   "source": [
    "df2[[\"BRAND_NAME\",\"OS_NAME\",\"DEVICE_TYPE\"]] = df2[[\"BRAND_NAME\", \"OS_NAME\",\"DEVICE_TYPE\"]].apply(pd.to_numeric)"
   ]
  },
  {
   "cell_type": "code",
   "execution_count": 86,
   "id": "6107e1d3",
   "metadata": {},
   "outputs": [],
   "source": [
    "df2[[\"GENDER_TYPE_CD\",\"AGE_B\",\"SAUDI_NON_SAUDI\",\"DEVICE_COUNT\"]] = df2[[\"GENDER_TYPE_CD\",\"AGE_B\",\"SAUDI_NON_SAUDI\",\"DEVICE_COUNT\"]].apply(pd.to_numeric)"
   ]
  },
  {
   "cell_type": "code",
   "execution_count": 87,
   "id": "1e9529c5",
   "metadata": {},
   "outputs": [
    {
     "name": "stdout",
     "output_type": "stream",
     "text": [
      "<class 'pandas.core.frame.DataFrame'>\n",
      "Int64Index: 79807 entries, 0 to 1048561\n",
      "Data columns (total 8 columns):\n",
      " #   Column           Non-Null Count  Dtype \n",
      "---  ------           --------------  ----- \n",
      " 0   CAL_DT           79807 non-null  object\n",
      " 1   BRAND_NAME       79807 non-null  int64 \n",
      " 2   OS_NAME          79807 non-null  int64 \n",
      " 3   DEVICE_TYPE      79807 non-null  int64 \n",
      " 4   GENDER_TYPE_CD   79807 non-null  int64 \n",
      " 5   AGE_B            79807 non-null  int64 \n",
      " 6   SAUDI_NON_SAUDI  79807 non-null  int64 \n",
      " 7   DEVICE_COUNT     79807 non-null  int64 \n",
      "dtypes: int64(7), object(1)\n",
      "memory usage: 5.5+ MB\n"
     ]
    }
   ],
   "source": [
    "df2.info()"
   ]
  },
  {
   "cell_type": "code",
   "execution_count": 88,
   "id": "8959e9f7",
   "metadata": {},
   "outputs": [],
   "source": [
    "df3=df2"
   ]
  },
  {
   "cell_type": "code",
   "execution_count": 89,
   "id": "835f96e6",
   "metadata": {},
   "outputs": [
    {
     "name": "stdout",
     "output_type": "stream",
     "text": [
      "<class 'pandas.core.frame.DataFrame'>\n",
      "Int64Index: 79807 entries, 0 to 1048561\n",
      "Data columns (total 8 columns):\n",
      " #   Column           Non-Null Count  Dtype \n",
      "---  ------           --------------  ----- \n",
      " 0   CAL_DT           79807 non-null  object\n",
      " 1   BRAND_NAME       79807 non-null  int64 \n",
      " 2   OS_NAME          79807 non-null  int64 \n",
      " 3   DEVICE_TYPE      79807 non-null  int64 \n",
      " 4   GENDER_TYPE_CD   79807 non-null  int64 \n",
      " 5   AGE_B            79807 non-null  int64 \n",
      " 6   SAUDI_NON_SAUDI  79807 non-null  int64 \n",
      " 7   DEVICE_COUNT     79807 non-null  int64 \n",
      "dtypes: int64(7), object(1)\n",
      "memory usage: 5.5+ MB\n"
     ]
    }
   ],
   "source": [
    "df3.info()"
   ]
  },
  {
   "cell_type": "code",
   "execution_count": 109,
   "id": "1cebed38",
   "metadata": {},
   "outputs": [],
   "source": [
    "# Logistic regression visualization utility function\n",
    "def generate_logreg_vis(beta=-.05):\n",
    "    \n",
    "    # draw feature values and use beta to calculate predicted probability\n",
    "    # of positive class for each feature value\n",
    "    x = np.random.uniform(low=-1, high=1, size=150) * 100\n",
    "    p = 1 / (1 + np.exp(-(beta*x))) # logistic regression function\n",
    "    \n",
    "    # plot predicted probs against the feature \n",
    "    plt.scatter(x, p)\n",
    "    plt.title('Probability of Default vs. Credit Rating Score')\n",
    "    plt.ylabel('Predicted Probability of Default')\n",
    "    plt.xlabel('Credit Rating Score')\n",
    "    \n",
    "    # 50% probability threshold\n",
    "    plt.gca().axhline(.5,c='k',ls='--',lw=1)"
   ]
  },
  {
   "cell_type": "code",
   "execution_count": 91,
   "id": "5715c79b",
   "metadata": {},
   "outputs": [],
   "source": [
    "from sklearn.model_selection import train_test_split"
   ]
  },
  {
   "cell_type": "code",
   "execution_count": 92,
   "id": "05b6772e",
   "metadata": {},
   "outputs": [],
   "source": [
    "X = df3[['BRAND_NAME', 'OS_NAME','DEVICE_TYPE', 'GENDER_TYPE_CD','AGE_B']]\n",
    "y = df3['SAUDI_NON_SAUDI']"
   ]
  },
  {
   "cell_type": "code",
   "execution_count": 93,
   "id": "fcf4830c",
   "metadata": {},
   "outputs": [],
   "source": [
    "X_train, X_test, y_train, y_test = train_test_split(X, y, test_size=0.33, random_state=42)"
   ]
  },
  {
   "cell_type": "code",
   "execution_count": 94,
   "id": "8b7710ee",
   "metadata": {},
   "outputs": [],
   "source": [
    "from sklearn.linear_model import LogisticRegression"
   ]
  },
  {
   "cell_type": "code",
   "execution_count": 95,
   "id": "8895b10b",
   "metadata": {},
   "outputs": [
    {
     "data": {
      "text/plain": [
       "LogisticRegression()"
      ]
     },
     "execution_count": 95,
     "metadata": {},
     "output_type": "execute_result"
    }
   ],
   "source": [
    "logmodel = LogisticRegression()\n",
    "logmodel.fit(X_train,y_train)"
   ]
  },
  {
   "cell_type": "code",
   "execution_count": 96,
   "id": "821c7ac7",
   "metadata": {},
   "outputs": [],
   "source": [
    "predictions = logmodel.predict(X_test)"
   ]
  },
  {
   "cell_type": "code",
   "execution_count": 97,
   "id": "7552f771",
   "metadata": {},
   "outputs": [],
   "source": [
    "from sklearn.metrics import classification_report"
   ]
  },
  {
   "cell_type": "code",
   "execution_count": 98,
   "id": "206766fa",
   "metadata": {},
   "outputs": [
    {
     "name": "stdout",
     "output_type": "stream",
     "text": [
      "              precision    recall  f1-score   support\n",
      "\n",
      "           1       0.66      0.96      0.78     17006\n",
      "           2       0.56      0.10      0.17      9331\n",
      "\n",
      "    accuracy                           0.65     26337\n",
      "   macro avg       0.61      0.53      0.48     26337\n",
      "weighted avg       0.63      0.65      0.56     26337\n",
      "\n"
     ]
    }
   ],
   "source": [
    "print(classification_report(y_test,predictions))"
   ]
  },
  {
   "cell_type": "code",
   "execution_count": 99,
   "id": "4cc88274",
   "metadata": {},
   "outputs": [],
   "source": [
    "df4=df3"
   ]
  },
  {
   "cell_type": "code",
   "execution_count": 100,
   "id": "7b4a2cfa",
   "metadata": {},
   "outputs": [
    {
     "data": {
      "text/html": [
       "<div>\n",
       "<style scoped>\n",
       "    .dataframe tbody tr th:only-of-type {\n",
       "        vertical-align: middle;\n",
       "    }\n",
       "\n",
       "    .dataframe tbody tr th {\n",
       "        vertical-align: top;\n",
       "    }\n",
       "\n",
       "    .dataframe thead th {\n",
       "        text-align: right;\n",
       "    }\n",
       "</style>\n",
       "<table border=\"1\" class=\"dataframe\">\n",
       "  <thead>\n",
       "    <tr style=\"text-align: right;\">\n",
       "      <th></th>\n",
       "      <th>CAL_DT</th>\n",
       "      <th>BRAND_NAME</th>\n",
       "      <th>OS_NAME</th>\n",
       "      <th>DEVICE_TYPE</th>\n",
       "      <th>GENDER_TYPE_CD</th>\n",
       "      <th>AGE_B</th>\n",
       "      <th>SAUDI_NON_SAUDI</th>\n",
       "      <th>DEVICE_COUNT</th>\n",
       "    </tr>\n",
       "  </thead>\n",
       "  <tbody>\n",
       "    <tr>\n",
       "      <th>0</th>\n",
       "      <td>1/31/2019</td>\n",
       "      <td>2</td>\n",
       "      <td>1</td>\n",
       "      <td>1</td>\n",
       "      <td>1</td>\n",
       "      <td>2</td>\n",
       "      <td>1</td>\n",
       "      <td>9</td>\n",
       "    </tr>\n",
       "    <tr>\n",
       "      <th>1</th>\n",
       "      <td>5/31/2020</td>\n",
       "      <td>1</td>\n",
       "      <td>3</td>\n",
       "      <td>2</td>\n",
       "      <td>1</td>\n",
       "      <td>5</td>\n",
       "      <td>1</td>\n",
       "      <td>1</td>\n",
       "    </tr>\n",
       "    <tr>\n",
       "      <th>3</th>\n",
       "      <td>12/31/2019</td>\n",
       "      <td>1</td>\n",
       "      <td>2</td>\n",
       "      <td>1</td>\n",
       "      <td>1</td>\n",
       "      <td>4</td>\n",
       "      <td>1</td>\n",
       "      <td>2</td>\n",
       "    </tr>\n",
       "    <tr>\n",
       "      <th>8</th>\n",
       "      <td>6/30/2019</td>\n",
       "      <td>2</td>\n",
       "      <td>1</td>\n",
       "      <td>1</td>\n",
       "      <td>1</td>\n",
       "      <td>3</td>\n",
       "      <td>1</td>\n",
       "      <td>21</td>\n",
       "    </tr>\n",
       "    <tr>\n",
       "      <th>11</th>\n",
       "      <td>5/31/2020</td>\n",
       "      <td>3</td>\n",
       "      <td>1</td>\n",
       "      <td>1</td>\n",
       "      <td>1</td>\n",
       "      <td>1</td>\n",
       "      <td>1</td>\n",
       "      <td>1</td>\n",
       "    </tr>\n",
       "    <tr>\n",
       "      <th>...</th>\n",
       "      <td>...</td>\n",
       "      <td>...</td>\n",
       "      <td>...</td>\n",
       "      <td>...</td>\n",
       "      <td>...</td>\n",
       "      <td>...</td>\n",
       "      <td>...</td>\n",
       "      <td>...</td>\n",
       "    </tr>\n",
       "    <tr>\n",
       "      <th>1048481</th>\n",
       "      <td>11/30/2019</td>\n",
       "      <td>1</td>\n",
       "      <td>3</td>\n",
       "      <td>2</td>\n",
       "      <td>2</td>\n",
       "      <td>2</td>\n",
       "      <td>2</td>\n",
       "      <td>24</td>\n",
       "    </tr>\n",
       "    <tr>\n",
       "      <th>1048488</th>\n",
       "      <td>10/31/2020</td>\n",
       "      <td>2</td>\n",
       "      <td>1</td>\n",
       "      <td>1</td>\n",
       "      <td>1</td>\n",
       "      <td>4</td>\n",
       "      <td>2</td>\n",
       "      <td>71</td>\n",
       "    </tr>\n",
       "    <tr>\n",
       "      <th>1048493</th>\n",
       "      <td>4/30/2020</td>\n",
       "      <td>1</td>\n",
       "      <td>3</td>\n",
       "      <td>2</td>\n",
       "      <td>1</td>\n",
       "      <td>6</td>\n",
       "      <td>2</td>\n",
       "      <td>64</td>\n",
       "    </tr>\n",
       "    <tr>\n",
       "      <th>1048521</th>\n",
       "      <td>3/31/2020</td>\n",
       "      <td>5</td>\n",
       "      <td>1</td>\n",
       "      <td>1</td>\n",
       "      <td>1</td>\n",
       "      <td>6</td>\n",
       "      <td>1</td>\n",
       "      <td>16</td>\n",
       "    </tr>\n",
       "    <tr>\n",
       "      <th>1048561</th>\n",
       "      <td>5/31/2020</td>\n",
       "      <td>3</td>\n",
       "      <td>1</td>\n",
       "      <td>1</td>\n",
       "      <td>1</td>\n",
       "      <td>3</td>\n",
       "      <td>2</td>\n",
       "      <td>102</td>\n",
       "    </tr>\n",
       "  </tbody>\n",
       "</table>\n",
       "<p>79807 rows × 8 columns</p>\n",
       "</div>"
      ],
      "text/plain": [
       "             CAL_DT  BRAND_NAME  OS_NAME  DEVICE_TYPE  GENDER_TYPE_CD  AGE_B  \\\n",
       "0         1/31/2019           2        1            1               1      2   \n",
       "1         5/31/2020           1        3            2               1      5   \n",
       "3        12/31/2019           1        2            1               1      4   \n",
       "8         6/30/2019           2        1            1               1      3   \n",
       "11        5/31/2020           3        1            1               1      1   \n",
       "...             ...         ...      ...          ...             ...    ...   \n",
       "1048481  11/30/2019           1        3            2               2      2   \n",
       "1048488  10/31/2020           2        1            1               1      4   \n",
       "1048493   4/30/2020           1        3            2               1      6   \n",
       "1048521   3/31/2020           5        1            1               1      6   \n",
       "1048561   5/31/2020           3        1            1               1      3   \n",
       "\n",
       "         SAUDI_NON_SAUDI  DEVICE_COUNT  \n",
       "0                      1             9  \n",
       "1                      1             1  \n",
       "3                      1             2  \n",
       "8                      1            21  \n",
       "11                     1             1  \n",
       "...                  ...           ...  \n",
       "1048481                2            24  \n",
       "1048488                2            71  \n",
       "1048493                2            64  \n",
       "1048521                1            16  \n",
       "1048561                2           102  \n",
       "\n",
       "[79807 rows x 8 columns]"
      ]
     },
     "execution_count": 100,
     "metadata": {},
     "output_type": "execute_result"
    }
   ],
   "source": [
    "df4"
   ]
  },
  {
   "cell_type": "code",
   "execution_count": 102,
   "id": "7136377c",
   "metadata": {},
   "outputs": [],
   "source": [
    "X = df4[['BRAND_NAME', 'OS_NAME','DEVICE_TYPE', 'SAUDI_NON_SAUDI','AGE_B']]\n",
    "y = df4['GENDER_TYPE_CD']"
   ]
  },
  {
   "cell_type": "code",
   "execution_count": 103,
   "id": "4802b956",
   "metadata": {},
   "outputs": [],
   "source": [
    "X_train, X_test, y_train, y_test = train_test_split(X, y, test_size=0.33, random_state=42)"
   ]
  },
  {
   "cell_type": "code",
   "execution_count": 104,
   "id": "d33171c1",
   "metadata": {},
   "outputs": [],
   "source": [
    "from sklearn.linear_model import LogisticRegression"
   ]
  },
  {
   "cell_type": "code",
   "execution_count": 105,
   "id": "0e1d4615",
   "metadata": {},
   "outputs": [
    {
     "data": {
      "text/plain": [
       "LogisticRegression()"
      ]
     },
     "execution_count": 105,
     "metadata": {},
     "output_type": "execute_result"
    }
   ],
   "source": [
    "logmodel = LogisticRegression()\n",
    "logmodel.fit(X_train,y_train)"
   ]
  },
  {
   "cell_type": "code",
   "execution_count": 106,
   "id": "5eb0d756",
   "metadata": {},
   "outputs": [],
   "source": [
    "predictions = logmodel.predict(X_test)"
   ]
  },
  {
   "cell_type": "code",
   "execution_count": 107,
   "id": "67f5992e",
   "metadata": {},
   "outputs": [],
   "source": [
    "from sklearn.metrics import classification_report"
   ]
  },
  {
   "cell_type": "code",
   "execution_count": 108,
   "id": "a1f7e3fd",
   "metadata": {},
   "outputs": [
    {
     "name": "stdout",
     "output_type": "stream",
     "text": [
      "              precision    recall  f1-score   support\n",
      "\n",
      "           1       0.72      1.00      0.84     18902\n",
      "           2       0.00      0.00      0.00      7435\n",
      "\n",
      "    accuracy                           0.72     26337\n",
      "   macro avg       0.36      0.50      0.42     26337\n",
      "weighted avg       0.52      0.72      0.60     26337\n",
      "\n"
     ]
    },
    {
     "name": "stderr",
     "output_type": "stream",
     "text": [
      "/opt/anaconda3/lib/python3.8/site-packages/sklearn/metrics/_classification.py:1245: UndefinedMetricWarning: Precision and F-score are ill-defined and being set to 0.0 in labels with no predicted samples. Use `zero_division` parameter to control this behavior.\n",
      "  _warn_prf(average, modifier, msg_start, len(result))\n",
      "/opt/anaconda3/lib/python3.8/site-packages/sklearn/metrics/_classification.py:1245: UndefinedMetricWarning: Precision and F-score are ill-defined and being set to 0.0 in labels with no predicted samples. Use `zero_division` parameter to control this behavior.\n",
      "  _warn_prf(average, modifier, msg_start, len(result))\n",
      "/opt/anaconda3/lib/python3.8/site-packages/sklearn/metrics/_classification.py:1245: UndefinedMetricWarning: Precision and F-score are ill-defined and being set to 0.0 in labels with no predicted samples. Use `zero_division` parameter to control this behavior.\n",
      "  _warn_prf(average, modifier, msg_start, len(result))\n"
     ]
    }
   ],
   "source": [
    "print(classification_report(y_test,predictions))"
   ]
  },
  {
   "cell_type": "code",
   "execution_count": 110,
   "id": "91f4d180",
   "metadata": {},
   "outputs": [],
   "source": [
    "df5=df2"
   ]
  },
  {
   "cell_type": "code",
   "execution_count": 111,
   "id": "0ae2e506",
   "metadata": {},
   "outputs": [
    {
     "data": {
      "text/html": [
       "<div>\n",
       "<style scoped>\n",
       "    .dataframe tbody tr th:only-of-type {\n",
       "        vertical-align: middle;\n",
       "    }\n",
       "\n",
       "    .dataframe tbody tr th {\n",
       "        vertical-align: top;\n",
       "    }\n",
       "\n",
       "    .dataframe thead th {\n",
       "        text-align: right;\n",
       "    }\n",
       "</style>\n",
       "<table border=\"1\" class=\"dataframe\">\n",
       "  <thead>\n",
       "    <tr style=\"text-align: right;\">\n",
       "      <th></th>\n",
       "      <th>CAL_DT</th>\n",
       "      <th>BRAND_NAME</th>\n",
       "      <th>OS_NAME</th>\n",
       "      <th>DEVICE_TYPE</th>\n",
       "      <th>GENDER_TYPE_CD</th>\n",
       "      <th>AGE_B</th>\n",
       "      <th>SAUDI_NON_SAUDI</th>\n",
       "      <th>DEVICE_COUNT</th>\n",
       "    </tr>\n",
       "  </thead>\n",
       "  <tbody>\n",
       "    <tr>\n",
       "      <th>0</th>\n",
       "      <td>1/31/2019</td>\n",
       "      <td>2</td>\n",
       "      <td>1</td>\n",
       "      <td>1</td>\n",
       "      <td>1</td>\n",
       "      <td>2</td>\n",
       "      <td>1</td>\n",
       "      <td>9</td>\n",
       "    </tr>\n",
       "    <tr>\n",
       "      <th>1</th>\n",
       "      <td>5/31/2020</td>\n",
       "      <td>1</td>\n",
       "      <td>3</td>\n",
       "      <td>2</td>\n",
       "      <td>1</td>\n",
       "      <td>5</td>\n",
       "      <td>1</td>\n",
       "      <td>1</td>\n",
       "    </tr>\n",
       "    <tr>\n",
       "      <th>3</th>\n",
       "      <td>12/31/2019</td>\n",
       "      <td>1</td>\n",
       "      <td>2</td>\n",
       "      <td>1</td>\n",
       "      <td>1</td>\n",
       "      <td>4</td>\n",
       "      <td>1</td>\n",
       "      <td>2</td>\n",
       "    </tr>\n",
       "    <tr>\n",
       "      <th>8</th>\n",
       "      <td>6/30/2019</td>\n",
       "      <td>2</td>\n",
       "      <td>1</td>\n",
       "      <td>1</td>\n",
       "      <td>1</td>\n",
       "      <td>3</td>\n",
       "      <td>1</td>\n",
       "      <td>21</td>\n",
       "    </tr>\n",
       "    <tr>\n",
       "      <th>11</th>\n",
       "      <td>5/31/2020</td>\n",
       "      <td>3</td>\n",
       "      <td>1</td>\n",
       "      <td>1</td>\n",
       "      <td>1</td>\n",
       "      <td>1</td>\n",
       "      <td>1</td>\n",
       "      <td>1</td>\n",
       "    </tr>\n",
       "    <tr>\n",
       "      <th>...</th>\n",
       "      <td>...</td>\n",
       "      <td>...</td>\n",
       "      <td>...</td>\n",
       "      <td>...</td>\n",
       "      <td>...</td>\n",
       "      <td>...</td>\n",
       "      <td>...</td>\n",
       "      <td>...</td>\n",
       "    </tr>\n",
       "    <tr>\n",
       "      <th>1048481</th>\n",
       "      <td>11/30/2019</td>\n",
       "      <td>1</td>\n",
       "      <td>3</td>\n",
       "      <td>2</td>\n",
       "      <td>2</td>\n",
       "      <td>2</td>\n",
       "      <td>2</td>\n",
       "      <td>24</td>\n",
       "    </tr>\n",
       "    <tr>\n",
       "      <th>1048488</th>\n",
       "      <td>10/31/2020</td>\n",
       "      <td>2</td>\n",
       "      <td>1</td>\n",
       "      <td>1</td>\n",
       "      <td>1</td>\n",
       "      <td>4</td>\n",
       "      <td>2</td>\n",
       "      <td>71</td>\n",
       "    </tr>\n",
       "    <tr>\n",
       "      <th>1048493</th>\n",
       "      <td>4/30/2020</td>\n",
       "      <td>1</td>\n",
       "      <td>3</td>\n",
       "      <td>2</td>\n",
       "      <td>1</td>\n",
       "      <td>6</td>\n",
       "      <td>2</td>\n",
       "      <td>64</td>\n",
       "    </tr>\n",
       "    <tr>\n",
       "      <th>1048521</th>\n",
       "      <td>3/31/2020</td>\n",
       "      <td>5</td>\n",
       "      <td>1</td>\n",
       "      <td>1</td>\n",
       "      <td>1</td>\n",
       "      <td>6</td>\n",
       "      <td>1</td>\n",
       "      <td>16</td>\n",
       "    </tr>\n",
       "    <tr>\n",
       "      <th>1048561</th>\n",
       "      <td>5/31/2020</td>\n",
       "      <td>3</td>\n",
       "      <td>1</td>\n",
       "      <td>1</td>\n",
       "      <td>1</td>\n",
       "      <td>3</td>\n",
       "      <td>2</td>\n",
       "      <td>102</td>\n",
       "    </tr>\n",
       "  </tbody>\n",
       "</table>\n",
       "<p>79807 rows × 8 columns</p>\n",
       "</div>"
      ],
      "text/plain": [
       "             CAL_DT  BRAND_NAME  OS_NAME  DEVICE_TYPE  GENDER_TYPE_CD  AGE_B  \\\n",
       "0         1/31/2019           2        1            1               1      2   \n",
       "1         5/31/2020           1        3            2               1      5   \n",
       "3        12/31/2019           1        2            1               1      4   \n",
       "8         6/30/2019           2        1            1               1      3   \n",
       "11        5/31/2020           3        1            1               1      1   \n",
       "...             ...         ...      ...          ...             ...    ...   \n",
       "1048481  11/30/2019           1        3            2               2      2   \n",
       "1048488  10/31/2020           2        1            1               1      4   \n",
       "1048493   4/30/2020           1        3            2               1      6   \n",
       "1048521   3/31/2020           5        1            1               1      6   \n",
       "1048561   5/31/2020           3        1            1               1      3   \n",
       "\n",
       "         SAUDI_NON_SAUDI  DEVICE_COUNT  \n",
       "0                      1             9  \n",
       "1                      1             1  \n",
       "3                      1             2  \n",
       "8                      1            21  \n",
       "11                     1             1  \n",
       "...                  ...           ...  \n",
       "1048481                2            24  \n",
       "1048488                2            71  \n",
       "1048493                2            64  \n",
       "1048521                1            16  \n",
       "1048561                2           102  \n",
       "\n",
       "[79807 rows x 8 columns]"
      ]
     },
     "execution_count": 111,
     "metadata": {},
     "output_type": "execute_result"
    }
   ],
   "source": [
    "df4"
   ]
  },
  {
   "cell_type": "code",
   "execution_count": 112,
   "id": "034d6e0e",
   "metadata": {},
   "outputs": [
    {
     "data": {
      "text/plain": [
       "LogisticRegression(C=1000)"
      ]
     },
     "execution_count": 112,
     "metadata": {},
     "output_type": "execute_result"
    }
   ],
   "source": [
    "lm1 = LogisticRegression(C=1000) # setting C very high essentially removes regularization\n",
    "lm1.fit(X_train[['BRAND_NAME']], y_train)"
   ]
  },
  {
   "cell_type": "code",
   "execution_count": 113,
   "id": "950ae7fd",
   "metadata": {},
   "outputs": [
    {
     "data": {
      "text/plain": [
       "0.7174116326912288"
      ]
     },
     "execution_count": 113,
     "metadata": {},
     "output_type": "execute_result"
    }
   ],
   "source": [
    "lm1.score(X_train[['BRAND_NAME']], y_train)"
   ]
  },
  {
   "cell_type": "code",
   "execution_count": null,
   "id": "87581518",
   "metadata": {},
   "outputs": [],
   "source": []
  },
  {
   "cell_type": "code",
   "execution_count": null,
   "id": "3c4ecd46",
   "metadata": {},
   "outputs": [],
   "source": []
  },
  {
   "cell_type": "code",
   "execution_count": null,
   "id": "2fef8dfd",
   "metadata": {},
   "outputs": [],
   "source": []
  }
 ],
 "metadata": {
  "kernelspec": {
   "display_name": "Python 3",
   "language": "python",
   "name": "python3"
  },
  "language_info": {
   "codemirror_mode": {
    "name": "ipython",
    "version": 3
   },
   "file_extension": ".py",
   "mimetype": "text/x-python",
   "name": "python",
   "nbconvert_exporter": "python",
   "pygments_lexer": "ipython3",
   "version": "3.8.8"
  }
 },
 "nbformat": 4,
 "nbformat_minor": 5
}
